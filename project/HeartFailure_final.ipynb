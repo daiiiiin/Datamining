{
 "cells": [
  {
   "cell_type": "code",
   "execution_count": 1,
   "id": "7d56affa",
   "metadata": {},
   "outputs": [],
   "source": [
    "import numpy as np\n",
    "import pandas as pd\n",
    "import matplotlib.pyplot as plt\n",
    "import seaborn as sns"
   ]
  },
  {
   "cell_type": "code",
   "execution_count": 2,
   "id": "721e0ddd",
   "metadata": {},
   "outputs": [],
   "source": [
    "from sklearn.model_selection import train_test_split\n",
    "from sklearn.tree import DecisionTreeClassifier\n",
    "from sklearn.model_selection import GridSearchCV \n",
    "from sklearn import tree\n",
    "\n",
    "from sklearn.ensemble import RandomForestClassifier\n",
    "\n",
    "from sklearn.ensemble import GradientBoostingClassifier\n",
    "from sklearn.metrics import plot_confusion_matrix\n",
    "\n",
    "from sklearn.neighbors import KNeighborsClassifier"
   ]
  },
  {
   "cell_type": "markdown",
   "id": "16ede4df",
   "metadata": {},
   "source": [
    "# 1. 데이터 가져오기"
   ]
  },
  {
   "cell_type": "code",
   "execution_count": 3,
   "id": "082b637b",
   "metadata": {
    "scrolled": true
   },
   "outputs": [
    {
     "data": {
      "text/html": [
       "<div>\n",
       "<style scoped>\n",
       "    .dataframe tbody tr th:only-of-type {\n",
       "        vertical-align: middle;\n",
       "    }\n",
       "\n",
       "    .dataframe tbody tr th {\n",
       "        vertical-align: top;\n",
       "    }\n",
       "\n",
       "    .dataframe thead th {\n",
       "        text-align: right;\n",
       "    }\n",
       "</style>\n",
       "<table border=\"1\" class=\"dataframe\">\n",
       "  <thead>\n",
       "    <tr style=\"text-align: right;\">\n",
       "      <th></th>\n",
       "      <th>Age</th>\n",
       "      <th>Sex</th>\n",
       "      <th>ChestPainType</th>\n",
       "      <th>RestingBP</th>\n",
       "      <th>Cholesterol</th>\n",
       "      <th>FastingBS</th>\n",
       "      <th>RestingECG</th>\n",
       "      <th>MaxHR</th>\n",
       "      <th>ExerciseAngina</th>\n",
       "      <th>Oldpeak</th>\n",
       "      <th>ST_Slope</th>\n",
       "      <th>HeartDisease</th>\n",
       "    </tr>\n",
       "  </thead>\n",
       "  <tbody>\n",
       "    <tr>\n",
       "      <th>0</th>\n",
       "      <td>40</td>\n",
       "      <td>M</td>\n",
       "      <td>ATA</td>\n",
       "      <td>140</td>\n",
       "      <td>289</td>\n",
       "      <td>0</td>\n",
       "      <td>Normal</td>\n",
       "      <td>172</td>\n",
       "      <td>N</td>\n",
       "      <td>0.0</td>\n",
       "      <td>Up</td>\n",
       "      <td>0</td>\n",
       "    </tr>\n",
       "    <tr>\n",
       "      <th>1</th>\n",
       "      <td>49</td>\n",
       "      <td>F</td>\n",
       "      <td>NAP</td>\n",
       "      <td>160</td>\n",
       "      <td>180</td>\n",
       "      <td>0</td>\n",
       "      <td>Normal</td>\n",
       "      <td>156</td>\n",
       "      <td>N</td>\n",
       "      <td>1.0</td>\n",
       "      <td>Flat</td>\n",
       "      <td>1</td>\n",
       "    </tr>\n",
       "    <tr>\n",
       "      <th>2</th>\n",
       "      <td>37</td>\n",
       "      <td>M</td>\n",
       "      <td>ATA</td>\n",
       "      <td>130</td>\n",
       "      <td>283</td>\n",
       "      <td>0</td>\n",
       "      <td>ST</td>\n",
       "      <td>98</td>\n",
       "      <td>N</td>\n",
       "      <td>0.0</td>\n",
       "      <td>Up</td>\n",
       "      <td>0</td>\n",
       "    </tr>\n",
       "    <tr>\n",
       "      <th>3</th>\n",
       "      <td>48</td>\n",
       "      <td>F</td>\n",
       "      <td>ASY</td>\n",
       "      <td>138</td>\n",
       "      <td>214</td>\n",
       "      <td>0</td>\n",
       "      <td>Normal</td>\n",
       "      <td>108</td>\n",
       "      <td>Y</td>\n",
       "      <td>1.5</td>\n",
       "      <td>Flat</td>\n",
       "      <td>1</td>\n",
       "    </tr>\n",
       "    <tr>\n",
       "      <th>4</th>\n",
       "      <td>54</td>\n",
       "      <td>M</td>\n",
       "      <td>NAP</td>\n",
       "      <td>150</td>\n",
       "      <td>195</td>\n",
       "      <td>0</td>\n",
       "      <td>Normal</td>\n",
       "      <td>122</td>\n",
       "      <td>N</td>\n",
       "      <td>0.0</td>\n",
       "      <td>Up</td>\n",
       "      <td>0</td>\n",
       "    </tr>\n",
       "  </tbody>\n",
       "</table>\n",
       "</div>"
      ],
      "text/plain": [
       "   Age Sex ChestPainType  RestingBP  Cholesterol  FastingBS RestingECG  MaxHR  \\\n",
       "0   40   M           ATA        140          289          0     Normal    172   \n",
       "1   49   F           NAP        160          180          0     Normal    156   \n",
       "2   37   M           ATA        130          283          0         ST     98   \n",
       "3   48   F           ASY        138          214          0     Normal    108   \n",
       "4   54   M           NAP        150          195          0     Normal    122   \n",
       "\n",
       "  ExerciseAngina  Oldpeak ST_Slope  HeartDisease  \n",
       "0              N      0.0       Up             0  \n",
       "1              N      1.0     Flat             1  \n",
       "2              N      0.0       Up             0  \n",
       "3              Y      1.5     Flat             1  \n",
       "4              N      0.0       Up             0  "
      ]
     },
     "execution_count": 3,
     "metadata": {},
     "output_type": "execute_result"
    }
   ],
   "source": [
    "df = pd.read_csv('C:/Users/Dain/Python_Jupyter/데이터마이닝_홍정식/heart_failure.csv')\n",
    "df1 =  pd.read_csv('C:/Users/Dain/Python_Jupyter/데이터마이닝_홍정식/heart_failure.csv')\n",
    "df2 = pd.read_csv('C:/Users/Dain/Python_Jupyter/데이터마이닝_홍정식/heart_failure.csv')\n",
    "df.head()"
   ]
  },
  {
   "cell_type": "markdown",
   "id": "5e365a69",
   "metadata": {},
   "source": [
    "# 2. 전처리"
   ]
  },
  {
   "cell_type": "markdown",
   "id": "adde86e0",
   "metadata": {},
   "source": [
    "### 2-1. 이상치 제거하기"
   ]
  },
  {
   "cell_type": "code",
   "execution_count": 4,
   "id": "4edeef35",
   "metadata": {},
   "outputs": [],
   "source": [
    "# 이상치 제거하기\n",
    "df = df[df.RestingBP > 50]\n",
    "df = df[df.Cholesterol != 0]\n",
    "\n",
    "df1 = df[df.RestingBP > 50]\n",
    "df1 = df[df.Cholesterol != 0]\n",
    "\n",
    "df2 = df[df.RestingBP > 50]\n",
    "df2 = df[df.Cholesterol != 0]"
   ]
  },
  {
   "cell_type": "code",
   "execution_count": 5,
   "id": "6ebba524",
   "metadata": {},
   "outputs": [
    {
     "data": {
      "text/html": [
       "<div>\n",
       "<style scoped>\n",
       "    .dataframe tbody tr th:only-of-type {\n",
       "        vertical-align: middle;\n",
       "    }\n",
       "\n",
       "    .dataframe tbody tr th {\n",
       "        vertical-align: top;\n",
       "    }\n",
       "\n",
       "    .dataframe thead th {\n",
       "        text-align: right;\n",
       "    }\n",
       "</style>\n",
       "<table border=\"1\" class=\"dataframe\">\n",
       "  <thead>\n",
       "    <tr style=\"text-align: right;\">\n",
       "      <th></th>\n",
       "      <th>Age</th>\n",
       "      <th>Sex</th>\n",
       "      <th>ChestPainType</th>\n",
       "      <th>RestingBP</th>\n",
       "      <th>Cholesterol</th>\n",
       "      <th>FastingBS</th>\n",
       "      <th>RestingECG</th>\n",
       "      <th>MaxHR</th>\n",
       "      <th>ExerciseAngina</th>\n",
       "      <th>Oldpeak</th>\n",
       "      <th>ST_Slope</th>\n",
       "      <th>HeartDisease</th>\n",
       "    </tr>\n",
       "  </thead>\n",
       "  <tbody>\n",
       "    <tr>\n",
       "      <th>0</th>\n",
       "      <td>40</td>\n",
       "      <td>M</td>\n",
       "      <td>ATA</td>\n",
       "      <td>140</td>\n",
       "      <td>289</td>\n",
       "      <td>0</td>\n",
       "      <td>Normal</td>\n",
       "      <td>172</td>\n",
       "      <td>N</td>\n",
       "      <td>0.0</td>\n",
       "      <td>Up</td>\n",
       "      <td>0</td>\n",
       "    </tr>\n",
       "    <tr>\n",
       "      <th>1</th>\n",
       "      <td>49</td>\n",
       "      <td>F</td>\n",
       "      <td>NAP</td>\n",
       "      <td>160</td>\n",
       "      <td>180</td>\n",
       "      <td>0</td>\n",
       "      <td>Normal</td>\n",
       "      <td>156</td>\n",
       "      <td>N</td>\n",
       "      <td>1.0</td>\n",
       "      <td>Flat</td>\n",
       "      <td>1</td>\n",
       "    </tr>\n",
       "    <tr>\n",
       "      <th>2</th>\n",
       "      <td>37</td>\n",
       "      <td>M</td>\n",
       "      <td>ATA</td>\n",
       "      <td>130</td>\n",
       "      <td>283</td>\n",
       "      <td>0</td>\n",
       "      <td>ST</td>\n",
       "      <td>98</td>\n",
       "      <td>N</td>\n",
       "      <td>0.0</td>\n",
       "      <td>Up</td>\n",
       "      <td>0</td>\n",
       "    </tr>\n",
       "    <tr>\n",
       "      <th>3</th>\n",
       "      <td>48</td>\n",
       "      <td>F</td>\n",
       "      <td>ASY</td>\n",
       "      <td>138</td>\n",
       "      <td>214</td>\n",
       "      <td>0</td>\n",
       "      <td>Normal</td>\n",
       "      <td>108</td>\n",
       "      <td>Y</td>\n",
       "      <td>1.5</td>\n",
       "      <td>Flat</td>\n",
       "      <td>1</td>\n",
       "    </tr>\n",
       "    <tr>\n",
       "      <th>4</th>\n",
       "      <td>54</td>\n",
       "      <td>M</td>\n",
       "      <td>NAP</td>\n",
       "      <td>150</td>\n",
       "      <td>195</td>\n",
       "      <td>0</td>\n",
       "      <td>Normal</td>\n",
       "      <td>122</td>\n",
       "      <td>N</td>\n",
       "      <td>0.0</td>\n",
       "      <td>Up</td>\n",
       "      <td>0</td>\n",
       "    </tr>\n",
       "    <tr>\n",
       "      <th>...</th>\n",
       "      <td>...</td>\n",
       "      <td>...</td>\n",
       "      <td>...</td>\n",
       "      <td>...</td>\n",
       "      <td>...</td>\n",
       "      <td>...</td>\n",
       "      <td>...</td>\n",
       "      <td>...</td>\n",
       "      <td>...</td>\n",
       "      <td>...</td>\n",
       "      <td>...</td>\n",
       "      <td>...</td>\n",
       "    </tr>\n",
       "    <tr>\n",
       "      <th>913</th>\n",
       "      <td>45</td>\n",
       "      <td>M</td>\n",
       "      <td>TA</td>\n",
       "      <td>110</td>\n",
       "      <td>264</td>\n",
       "      <td>0</td>\n",
       "      <td>Normal</td>\n",
       "      <td>132</td>\n",
       "      <td>N</td>\n",
       "      <td>1.2</td>\n",
       "      <td>Flat</td>\n",
       "      <td>1</td>\n",
       "    </tr>\n",
       "    <tr>\n",
       "      <th>914</th>\n",
       "      <td>68</td>\n",
       "      <td>M</td>\n",
       "      <td>ASY</td>\n",
       "      <td>144</td>\n",
       "      <td>193</td>\n",
       "      <td>1</td>\n",
       "      <td>Normal</td>\n",
       "      <td>141</td>\n",
       "      <td>N</td>\n",
       "      <td>3.4</td>\n",
       "      <td>Flat</td>\n",
       "      <td>1</td>\n",
       "    </tr>\n",
       "    <tr>\n",
       "      <th>915</th>\n",
       "      <td>57</td>\n",
       "      <td>M</td>\n",
       "      <td>ASY</td>\n",
       "      <td>130</td>\n",
       "      <td>131</td>\n",
       "      <td>0</td>\n",
       "      <td>Normal</td>\n",
       "      <td>115</td>\n",
       "      <td>Y</td>\n",
       "      <td>1.2</td>\n",
       "      <td>Flat</td>\n",
       "      <td>1</td>\n",
       "    </tr>\n",
       "    <tr>\n",
       "      <th>916</th>\n",
       "      <td>57</td>\n",
       "      <td>F</td>\n",
       "      <td>ATA</td>\n",
       "      <td>130</td>\n",
       "      <td>236</td>\n",
       "      <td>0</td>\n",
       "      <td>LVH</td>\n",
       "      <td>174</td>\n",
       "      <td>N</td>\n",
       "      <td>0.0</td>\n",
       "      <td>Flat</td>\n",
       "      <td>1</td>\n",
       "    </tr>\n",
       "    <tr>\n",
       "      <th>917</th>\n",
       "      <td>38</td>\n",
       "      <td>M</td>\n",
       "      <td>NAP</td>\n",
       "      <td>138</td>\n",
       "      <td>175</td>\n",
       "      <td>0</td>\n",
       "      <td>Normal</td>\n",
       "      <td>173</td>\n",
       "      <td>N</td>\n",
       "      <td>0.0</td>\n",
       "      <td>Up</td>\n",
       "      <td>0</td>\n",
       "    </tr>\n",
       "  </tbody>\n",
       "</table>\n",
       "<p>746 rows × 12 columns</p>\n",
       "</div>"
      ],
      "text/plain": [
       "     Age Sex ChestPainType  RestingBP  Cholesterol  FastingBS RestingECG  \\\n",
       "0     40   M           ATA        140          289          0     Normal   \n",
       "1     49   F           NAP        160          180          0     Normal   \n",
       "2     37   M           ATA        130          283          0         ST   \n",
       "3     48   F           ASY        138          214          0     Normal   \n",
       "4     54   M           NAP        150          195          0     Normal   \n",
       "..   ...  ..           ...        ...          ...        ...        ...   \n",
       "913   45   M            TA        110          264          0     Normal   \n",
       "914   68   M           ASY        144          193          1     Normal   \n",
       "915   57   M           ASY        130          131          0     Normal   \n",
       "916   57   F           ATA        130          236          0        LVH   \n",
       "917   38   M           NAP        138          175          0     Normal   \n",
       "\n",
       "     MaxHR ExerciseAngina  Oldpeak ST_Slope  HeartDisease  \n",
       "0      172              N      0.0       Up             0  \n",
       "1      156              N      1.0     Flat             1  \n",
       "2       98              N      0.0       Up             0  \n",
       "3      108              Y      1.5     Flat             1  \n",
       "4      122              N      0.0       Up             0  \n",
       "..     ...            ...      ...      ...           ...  \n",
       "913    132              N      1.2     Flat             1  \n",
       "914    141              N      3.4     Flat             1  \n",
       "915    115              Y      1.2     Flat             1  \n",
       "916    174              N      0.0     Flat             1  \n",
       "917    173              N      0.0       Up             0  \n",
       "\n",
       "[746 rows x 12 columns]"
      ]
     },
     "execution_count": 5,
     "metadata": {},
     "output_type": "execute_result"
    }
   ],
   "source": [
    "# 이상치 제거한거 확인 (총 918개 -> 746개)\n",
    "df"
   ]
  },
  {
   "cell_type": "markdown",
   "id": "8eb9c01c",
   "metadata": {},
   "source": [
    "### 2-2. 인코딩"
   ]
  },
  {
   "cell_type": "code",
   "execution_count": 6,
   "id": "39fbc52d",
   "metadata": {},
   "outputs": [],
   "source": [
    "from sklearn import preprocessing"
   ]
  },
  {
   "cell_type": "markdown",
   "id": "3e0ba08f",
   "metadata": {},
   "source": [
    "* sex : M = 1, F = 0\n",
    "* chestpaintype : ASY = 0, ATA = 1, NAP = 2, TA = 3\n",
    "* restingECG : LVH = 0, Normal = 1, ST = 2\n",
    "* exerciseAngina : No = 0, Yes = 1\n",
    "* ST_Slope : Down = 0, Flat = 1, Up = 2"
   ]
  },
  {
   "cell_type": "code",
   "execution_count": 7,
   "id": "e8dcb166",
   "metadata": {},
   "outputs": [],
   "source": [
    "# 라벨 인코딩 (df1)\n",
    "le = preprocessing.LabelEncoder()\n",
    "df1['Sex'] = le.fit_transform(df1['Sex'])\n",
    "df1['ChestPainType'] = le.fit_transform(df1['ChestPainType'])\n",
    "df1['RestingECG'] = le.fit_transform(df1['RestingECG'])\n",
    "df1['ExerciseAngina'] = le.fit_transform(df1['ExerciseAngina'])\n",
    "df1['ST_Slope'] = le.fit_transform(df1['ST_Slope'])"
   ]
  },
  {
   "cell_type": "code",
   "execution_count": null,
   "id": "49fd7904",
   "metadata": {},
   "outputs": [],
   "source": []
  },
  {
   "cell_type": "code",
   "execution_count": 8,
   "id": "113da694",
   "metadata": {},
   "outputs": [],
   "source": [
    "# 원핫인코딩 (df2)\n",
    "df2['FastingBS'] = df2['FastingBS'].astype('category')"
   ]
  },
  {
   "cell_type": "code",
   "execution_count": 9,
   "id": "86ad6bc8",
   "metadata": {},
   "outputs": [],
   "source": [
    "num_col = df.drop(columns='HeartDisease').select_dtypes(include=['int']).columns.tolist()\n",
    "cat_col = df2.drop(columns='HeartDisease').select_dtypes(include=['object', 'category']).columns.tolist()\n",
    "df2 = pd.get_dummies(df2, columns=cat_col)"
   ]
  },
  {
   "cell_type": "code",
   "execution_count": 10,
   "id": "3b6884d8",
   "metadata": {},
   "outputs": [
    {
     "data": {
      "text/html": [
       "<div>\n",
       "<style scoped>\n",
       "    .dataframe tbody tr th:only-of-type {\n",
       "        vertical-align: middle;\n",
       "    }\n",
       "\n",
       "    .dataframe tbody tr th {\n",
       "        vertical-align: top;\n",
       "    }\n",
       "\n",
       "    .dataframe thead th {\n",
       "        text-align: right;\n",
       "    }\n",
       "</style>\n",
       "<table border=\"1\" class=\"dataframe\">\n",
       "  <thead>\n",
       "    <tr style=\"text-align: right;\">\n",
       "      <th></th>\n",
       "      <th>Age</th>\n",
       "      <th>RestingBP</th>\n",
       "      <th>Cholesterol</th>\n",
       "      <th>MaxHR</th>\n",
       "      <th>Oldpeak</th>\n",
       "      <th>HeartDisease</th>\n",
       "      <th>Sex_F</th>\n",
       "      <th>Sex_M</th>\n",
       "      <th>ChestPainType_ASY</th>\n",
       "      <th>ChestPainType_ATA</th>\n",
       "      <th>...</th>\n",
       "      <th>FastingBS_0</th>\n",
       "      <th>FastingBS_1</th>\n",
       "      <th>RestingECG_LVH</th>\n",
       "      <th>RestingECG_Normal</th>\n",
       "      <th>RestingECG_ST</th>\n",
       "      <th>ExerciseAngina_N</th>\n",
       "      <th>ExerciseAngina_Y</th>\n",
       "      <th>ST_Slope_Down</th>\n",
       "      <th>ST_Slope_Flat</th>\n",
       "      <th>ST_Slope_Up</th>\n",
       "    </tr>\n",
       "  </thead>\n",
       "  <tbody>\n",
       "    <tr>\n",
       "      <th>0</th>\n",
       "      <td>40</td>\n",
       "      <td>140</td>\n",
       "      <td>289</td>\n",
       "      <td>172</td>\n",
       "      <td>0.0</td>\n",
       "      <td>0</td>\n",
       "      <td>0</td>\n",
       "      <td>1</td>\n",
       "      <td>0</td>\n",
       "      <td>1</td>\n",
       "      <td>...</td>\n",
       "      <td>1</td>\n",
       "      <td>0</td>\n",
       "      <td>0</td>\n",
       "      <td>1</td>\n",
       "      <td>0</td>\n",
       "      <td>1</td>\n",
       "      <td>0</td>\n",
       "      <td>0</td>\n",
       "      <td>0</td>\n",
       "      <td>1</td>\n",
       "    </tr>\n",
       "    <tr>\n",
       "      <th>1</th>\n",
       "      <td>49</td>\n",
       "      <td>160</td>\n",
       "      <td>180</td>\n",
       "      <td>156</td>\n",
       "      <td>1.0</td>\n",
       "      <td>1</td>\n",
       "      <td>1</td>\n",
       "      <td>0</td>\n",
       "      <td>0</td>\n",
       "      <td>0</td>\n",
       "      <td>...</td>\n",
       "      <td>1</td>\n",
       "      <td>0</td>\n",
       "      <td>0</td>\n",
       "      <td>1</td>\n",
       "      <td>0</td>\n",
       "      <td>1</td>\n",
       "      <td>0</td>\n",
       "      <td>0</td>\n",
       "      <td>1</td>\n",
       "      <td>0</td>\n",
       "    </tr>\n",
       "    <tr>\n",
       "      <th>2</th>\n",
       "      <td>37</td>\n",
       "      <td>130</td>\n",
       "      <td>283</td>\n",
       "      <td>98</td>\n",
       "      <td>0.0</td>\n",
       "      <td>0</td>\n",
       "      <td>0</td>\n",
       "      <td>1</td>\n",
       "      <td>0</td>\n",
       "      <td>1</td>\n",
       "      <td>...</td>\n",
       "      <td>1</td>\n",
       "      <td>0</td>\n",
       "      <td>0</td>\n",
       "      <td>0</td>\n",
       "      <td>1</td>\n",
       "      <td>1</td>\n",
       "      <td>0</td>\n",
       "      <td>0</td>\n",
       "      <td>0</td>\n",
       "      <td>1</td>\n",
       "    </tr>\n",
       "    <tr>\n",
       "      <th>3</th>\n",
       "      <td>48</td>\n",
       "      <td>138</td>\n",
       "      <td>214</td>\n",
       "      <td>108</td>\n",
       "      <td>1.5</td>\n",
       "      <td>1</td>\n",
       "      <td>1</td>\n",
       "      <td>0</td>\n",
       "      <td>1</td>\n",
       "      <td>0</td>\n",
       "      <td>...</td>\n",
       "      <td>1</td>\n",
       "      <td>0</td>\n",
       "      <td>0</td>\n",
       "      <td>1</td>\n",
       "      <td>0</td>\n",
       "      <td>0</td>\n",
       "      <td>1</td>\n",
       "      <td>0</td>\n",
       "      <td>1</td>\n",
       "      <td>0</td>\n",
       "    </tr>\n",
       "    <tr>\n",
       "      <th>4</th>\n",
       "      <td>54</td>\n",
       "      <td>150</td>\n",
       "      <td>195</td>\n",
       "      <td>122</td>\n",
       "      <td>0.0</td>\n",
       "      <td>0</td>\n",
       "      <td>0</td>\n",
       "      <td>1</td>\n",
       "      <td>0</td>\n",
       "      <td>0</td>\n",
       "      <td>...</td>\n",
       "      <td>1</td>\n",
       "      <td>0</td>\n",
       "      <td>0</td>\n",
       "      <td>1</td>\n",
       "      <td>0</td>\n",
       "      <td>1</td>\n",
       "      <td>0</td>\n",
       "      <td>0</td>\n",
       "      <td>0</td>\n",
       "      <td>1</td>\n",
       "    </tr>\n",
       "    <tr>\n",
       "      <th>...</th>\n",
       "      <td>...</td>\n",
       "      <td>...</td>\n",
       "      <td>...</td>\n",
       "      <td>...</td>\n",
       "      <td>...</td>\n",
       "      <td>...</td>\n",
       "      <td>...</td>\n",
       "      <td>...</td>\n",
       "      <td>...</td>\n",
       "      <td>...</td>\n",
       "      <td>...</td>\n",
       "      <td>...</td>\n",
       "      <td>...</td>\n",
       "      <td>...</td>\n",
       "      <td>...</td>\n",
       "      <td>...</td>\n",
       "      <td>...</td>\n",
       "      <td>...</td>\n",
       "      <td>...</td>\n",
       "      <td>...</td>\n",
       "      <td>...</td>\n",
       "    </tr>\n",
       "    <tr>\n",
       "      <th>913</th>\n",
       "      <td>45</td>\n",
       "      <td>110</td>\n",
       "      <td>264</td>\n",
       "      <td>132</td>\n",
       "      <td>1.2</td>\n",
       "      <td>1</td>\n",
       "      <td>0</td>\n",
       "      <td>1</td>\n",
       "      <td>0</td>\n",
       "      <td>0</td>\n",
       "      <td>...</td>\n",
       "      <td>1</td>\n",
       "      <td>0</td>\n",
       "      <td>0</td>\n",
       "      <td>1</td>\n",
       "      <td>0</td>\n",
       "      <td>1</td>\n",
       "      <td>0</td>\n",
       "      <td>0</td>\n",
       "      <td>1</td>\n",
       "      <td>0</td>\n",
       "    </tr>\n",
       "    <tr>\n",
       "      <th>914</th>\n",
       "      <td>68</td>\n",
       "      <td>144</td>\n",
       "      <td>193</td>\n",
       "      <td>141</td>\n",
       "      <td>3.4</td>\n",
       "      <td>1</td>\n",
       "      <td>0</td>\n",
       "      <td>1</td>\n",
       "      <td>1</td>\n",
       "      <td>0</td>\n",
       "      <td>...</td>\n",
       "      <td>0</td>\n",
       "      <td>1</td>\n",
       "      <td>0</td>\n",
       "      <td>1</td>\n",
       "      <td>0</td>\n",
       "      <td>1</td>\n",
       "      <td>0</td>\n",
       "      <td>0</td>\n",
       "      <td>1</td>\n",
       "      <td>0</td>\n",
       "    </tr>\n",
       "    <tr>\n",
       "      <th>915</th>\n",
       "      <td>57</td>\n",
       "      <td>130</td>\n",
       "      <td>131</td>\n",
       "      <td>115</td>\n",
       "      <td>1.2</td>\n",
       "      <td>1</td>\n",
       "      <td>0</td>\n",
       "      <td>1</td>\n",
       "      <td>1</td>\n",
       "      <td>0</td>\n",
       "      <td>...</td>\n",
       "      <td>1</td>\n",
       "      <td>0</td>\n",
       "      <td>0</td>\n",
       "      <td>1</td>\n",
       "      <td>0</td>\n",
       "      <td>0</td>\n",
       "      <td>1</td>\n",
       "      <td>0</td>\n",
       "      <td>1</td>\n",
       "      <td>0</td>\n",
       "    </tr>\n",
       "    <tr>\n",
       "      <th>916</th>\n",
       "      <td>57</td>\n",
       "      <td>130</td>\n",
       "      <td>236</td>\n",
       "      <td>174</td>\n",
       "      <td>0.0</td>\n",
       "      <td>1</td>\n",
       "      <td>1</td>\n",
       "      <td>0</td>\n",
       "      <td>0</td>\n",
       "      <td>1</td>\n",
       "      <td>...</td>\n",
       "      <td>1</td>\n",
       "      <td>0</td>\n",
       "      <td>1</td>\n",
       "      <td>0</td>\n",
       "      <td>0</td>\n",
       "      <td>1</td>\n",
       "      <td>0</td>\n",
       "      <td>0</td>\n",
       "      <td>1</td>\n",
       "      <td>0</td>\n",
       "    </tr>\n",
       "    <tr>\n",
       "      <th>917</th>\n",
       "      <td>38</td>\n",
       "      <td>138</td>\n",
       "      <td>175</td>\n",
       "      <td>173</td>\n",
       "      <td>0.0</td>\n",
       "      <td>0</td>\n",
       "      <td>0</td>\n",
       "      <td>1</td>\n",
       "      <td>0</td>\n",
       "      <td>0</td>\n",
       "      <td>...</td>\n",
       "      <td>1</td>\n",
       "      <td>0</td>\n",
       "      <td>0</td>\n",
       "      <td>1</td>\n",
       "      <td>0</td>\n",
       "      <td>1</td>\n",
       "      <td>0</td>\n",
       "      <td>0</td>\n",
       "      <td>0</td>\n",
       "      <td>1</td>\n",
       "    </tr>\n",
       "  </tbody>\n",
       "</table>\n",
       "<p>746 rows × 22 columns</p>\n",
       "</div>"
      ],
      "text/plain": [
       "     Age  RestingBP  Cholesterol  MaxHR  Oldpeak  HeartDisease  Sex_F  Sex_M  \\\n",
       "0     40        140          289    172      0.0             0      0      1   \n",
       "1     49        160          180    156      1.0             1      1      0   \n",
       "2     37        130          283     98      0.0             0      0      1   \n",
       "3     48        138          214    108      1.5             1      1      0   \n",
       "4     54        150          195    122      0.0             0      0      1   \n",
       "..   ...        ...          ...    ...      ...           ...    ...    ...   \n",
       "913   45        110          264    132      1.2             1      0      1   \n",
       "914   68        144          193    141      3.4             1      0      1   \n",
       "915   57        130          131    115      1.2             1      0      1   \n",
       "916   57        130          236    174      0.0             1      1      0   \n",
       "917   38        138          175    173      0.0             0      0      1   \n",
       "\n",
       "     ChestPainType_ASY  ChestPainType_ATA  ...  FastingBS_0  FastingBS_1  \\\n",
       "0                    0                  1  ...            1            0   \n",
       "1                    0                  0  ...            1            0   \n",
       "2                    0                  1  ...            1            0   \n",
       "3                    1                  0  ...            1            0   \n",
       "4                    0                  0  ...            1            0   \n",
       "..                 ...                ...  ...          ...          ...   \n",
       "913                  0                  0  ...            1            0   \n",
       "914                  1                  0  ...            0            1   \n",
       "915                  1                  0  ...            1            0   \n",
       "916                  0                  1  ...            1            0   \n",
       "917                  0                  0  ...            1            0   \n",
       "\n",
       "     RestingECG_LVH  RestingECG_Normal  RestingECG_ST  ExerciseAngina_N  \\\n",
       "0                 0                  1              0                 1   \n",
       "1                 0                  1              0                 1   \n",
       "2                 0                  0              1                 1   \n",
       "3                 0                  1              0                 0   \n",
       "4                 0                  1              0                 1   \n",
       "..              ...                ...            ...               ...   \n",
       "913               0                  1              0                 1   \n",
       "914               0                  1              0                 1   \n",
       "915               0                  1              0                 0   \n",
       "916               1                  0              0                 1   \n",
       "917               0                  1              0                 1   \n",
       "\n",
       "     ExerciseAngina_Y  ST_Slope_Down  ST_Slope_Flat  ST_Slope_Up  \n",
       "0                   0              0              0            1  \n",
       "1                   0              0              1            0  \n",
       "2                   0              0              0            1  \n",
       "3                   1              0              1            0  \n",
       "4                   0              0              0            1  \n",
       "..                ...            ...            ...          ...  \n",
       "913                 0              0              1            0  \n",
       "914                 0              0              1            0  \n",
       "915                 1              0              1            0  \n",
       "916                 0              0              1            0  \n",
       "917                 0              0              0            1  \n",
       "\n",
       "[746 rows x 22 columns]"
      ]
     },
     "execution_count": 10,
     "metadata": {},
     "output_type": "execute_result"
    }
   ],
   "source": [
    "df2"
   ]
  },
  {
   "cell_type": "markdown",
   "id": "61900e51",
   "metadata": {},
   "source": [
    "# 3. 모델 비교\n",
    "* CRI & Stable DT\n",
    "* Random Forest\n",
    "* Gradient Boost\n",
    "* KNN"
   ]
  },
  {
   "cell_type": "markdown",
   "id": "917e2421",
   "metadata": {},
   "source": [
    "### 3-0. CRI"
   ]
  },
  {
   "cell_type": "code",
   "execution_count": 11,
   "id": "9d49bb53",
   "metadata": {},
   "outputs": [],
   "source": [
    "from sklearn.metrics import accuracy_score\n",
    "from sklearn.metrics import f1_score\n",
    "from sklearn.metrics import confusion_matrix"
   ]
  },
  {
   "cell_type": "code",
   "execution_count": 12,
   "id": "2802273b",
   "metadata": {},
   "outputs": [],
   "source": [
    "from modules.stableCRI import stable_concise_rule_induction # file 제공\n",
    "\n",
    "dataset = df.copy()\n",
    "target_name = 'HeartDisease' # target name을 꼭 입력해주시길 바랍니다.\n",
    "colnm = dataset.columns\n",
    "X = dataset.loc[:,colnm [colnm != target_name]]\n",
    "y = dataset.loc[:, target_name]\n",
    "X_train, X_test, y_train, y_test = train_test_split(X, y, test_size=0.2, random_state=77)\n",
    "\n",
    "# Concatenating X,y -> training dataset([X_train,y_train]), test dataset([X_test,y_test]) \n",
    "train_idx, test_idx = X_train.index, X_test.index\n",
    "df_train, df_test = dataset.loc[train_idx,:], dataset.loc[test_idx,:]"
   ]
  },
  {
   "cell_type": "code",
   "execution_count": 38,
   "id": "8fd23f50",
   "metadata": {},
   "outputs": [
    {
     "name": "stderr",
     "output_type": "stream",
     "text": [
      "C:\\ProgramData\\Anaconda3\\lib\\site-packages\\pandas\\core\\indexing.py:1732: SettingWithCopyWarning: \n",
      "A value is trying to be set on a copy of a slice from a DataFrame\n",
      "\n",
      "See the caveats in the documentation: https://pandas.pydata.org/pandas-docs/stable/user_guide/indexing.html#returning-a-view-versus-a-copy\n",
      "  self._setitem_single_block(indexer, value, name)\n"
     ]
    }
   ],
   "source": [
    "# fitting\n",
    "min_sample_ratio = 0.03\n",
    "min_samples = round(min_sample_ratio * len(df_train))\n",
    "max_depth = 100 # 처음에는 2 또는 3으로 설정해서 돌려보고, 소요시간을 체크해보시기 바랍니다.\n",
    "\n",
    "cri = stable_concise_rule_induction(min_samples = min_samples, max_depth = max_depth)\n",
    "cri.fit(data = df_train, target_name = target_name, iter_num = 20, rule_rate = 0.9) "
   ]
  },
  {
   "cell_type": "code",
   "execution_count": 39,
   "id": "48bee0f9",
   "metadata": {},
   "outputs": [
    {
     "name": "stderr",
     "output_type": "stream",
     "text": [
      "C:\\ProgramData\\Anaconda3\\lib\\site-packages\\pandas\\core\\indexing.py:1732: SettingWithCopyWarning: \n",
      "A value is trying to be set on a copy of a slice from a DataFrame\n",
      "\n",
      "See the caveats in the documentation: https://pandas.pydata.org/pandas-docs/stable/user_guide/indexing.html#returning-a-view-versus-a-copy\n",
      "  self._setitem_single_block(indexer, value, name)\n"
     ]
    },
    {
     "data": {
      "text/plain": [
       "(0.8667, 0.8666)"
      ]
     },
     "execution_count": 39,
     "metadata": {},
     "output_type": "execute_result"
    }
   ],
   "source": [
    "# predictive performance\n",
    "# f1 : macro-averaging for multiclass\n",
    "pred_y, acc, f1 = cri.predict(df_test)\n",
    "acc,f1"
   ]
  },
  {
   "cell_type": "code",
   "execution_count": 40,
   "id": "8ed8c88e",
   "metadata": {},
   "outputs": [
    {
     "name": "stdout",
     "output_type": "stream",
     "text": [
      "[[37 28]\n",
      " [42 43]]\n"
     ]
    }
   ],
   "source": [
    "# confusion matrix\n",
    "cm = confusion_matrix(y_test, pred_y)\n",
    "print(cm)"
   ]
  },
  {
   "cell_type": "code",
   "execution_count": 41,
   "id": "1f1bb13e",
   "metadata": {},
   "outputs": [
    {
     "name": "stdout",
     "output_type": "stream",
     "text": [
      "IF ['Oldpeak >= 2.45'] THEN HeartDisease = 1   (homogeneity = 0.9464 , coverage = 0.094 )\n",
      "IF ['MaxHR >= 177.5'] THEN HeartDisease = 0   (homogeneity = 0.9189 , coverage = 0.0621 )\n",
      "IF ['ChestPainType == ATA'] THEN HeartDisease = 0   (homogeneity = 0.8939 , coverage = 0.2215 )\n",
      "IF ['Oldpeak >= 1.85'] THEN HeartDisease = 1   (homogeneity = 0.8525 , coverage = 0.2047 )\n",
      "IF ['Oldpeak < 2.45', 'ST_Slope != Flat', 'ChestPainType == NAP'] THEN HeartDisease = 0   (homogeneity = 0.987 , coverage = 0.1292 )\n",
      "IF ['ExerciseAngina == Y'] THEN HeartDisease = 1   (homogeneity = 0.8217 , coverage = 0.3859 )\n",
      "IF ['Oldpeak < 2.45', 'Sex != M'] THEN HeartDisease = 0   (homogeneity = 0.7923 , coverage = 0.2181 )\n"
     ]
    }
   ],
   "source": [
    "# rules\n",
    "cri.export_text()"
   ]
  },
  {
   "cell_type": "code",
   "execution_count": 42,
   "id": "fa572e20",
   "metadata": {},
   "outputs": [
    {
     "data": {
      "text/html": [
       "<div>\n",
       "<style scoped>\n",
       "    .dataframe tbody tr th:only-of-type {\n",
       "        vertical-align: middle;\n",
       "    }\n",
       "\n",
       "    .dataframe tbody tr th {\n",
       "        vertical-align: top;\n",
       "    }\n",
       "\n",
       "    .dataframe thead th {\n",
       "        text-align: right;\n",
       "    }\n",
       "</style>\n",
       "<table border=\"1\" class=\"dataframe\">\n",
       "  <thead>\n",
       "    <tr style=\"text-align: right;\">\n",
       "      <th></th>\n",
       "      <th>0</th>\n",
       "      <th>1</th>\n",
       "      <th>2</th>\n",
       "      <th>3</th>\n",
       "      <th>4</th>\n",
       "      <th>5</th>\n",
       "      <th>6</th>\n",
       "    </tr>\n",
       "  </thead>\n",
       "  <tbody>\n",
       "    <tr>\n",
       "      <th>Rule</th>\n",
       "      <td>Oldpeak &lt; 2.45, ST_Slope != Flat, ChestPainTyp...</td>\n",
       "      <td>Oldpeak &gt;= 2.45</td>\n",
       "      <td>MaxHR &gt;= 177.5</td>\n",
       "      <td>ChestPainType == ATA</td>\n",
       "      <td>Oldpeak &gt;= 1.85</td>\n",
       "      <td>ExerciseAngina == Y</td>\n",
       "      <td>Oldpeak &lt; 2.45, Sex != M</td>\n",
       "    </tr>\n",
       "    <tr>\n",
       "      <th>pred_y</th>\n",
       "      <td>0</td>\n",
       "      <td>1</td>\n",
       "      <td>0</td>\n",
       "      <td>0</td>\n",
       "      <td>1</td>\n",
       "      <td>1</td>\n",
       "      <td>0</td>\n",
       "    </tr>\n",
       "    <tr>\n",
       "      <th>Homogeneity</th>\n",
       "      <td>0.987</td>\n",
       "      <td>0.9464</td>\n",
       "      <td>0.9189</td>\n",
       "      <td>0.8939</td>\n",
       "      <td>0.8525</td>\n",
       "      <td>0.8217</td>\n",
       "      <td>0.7923</td>\n",
       "    </tr>\n",
       "    <tr>\n",
       "      <th>Coverage</th>\n",
       "      <td>0.1292</td>\n",
       "      <td>0.094</td>\n",
       "      <td>0.0621</td>\n",
       "      <td>0.2215</td>\n",
       "      <td>0.2047</td>\n",
       "      <td>0.3859</td>\n",
       "      <td>0.2181</td>\n",
       "    </tr>\n",
       "    <tr>\n",
       "      <th># of condition</th>\n",
       "      <td>3.0</td>\n",
       "      <td>1.0</td>\n",
       "      <td>1.0</td>\n",
       "      <td>1.0</td>\n",
       "      <td>1.0</td>\n",
       "      <td>1.0</td>\n",
       "      <td>2.0</td>\n",
       "    </tr>\n",
       "  </tbody>\n",
       "</table>\n",
       "</div>"
      ],
      "text/plain": [
       "                                                                0  \\\n",
       "Rule            Oldpeak < 2.45, ST_Slope != Flat, ChestPainTyp...   \n",
       "pred_y                                                          0   \n",
       "Homogeneity                                                 0.987   \n",
       "Coverage                                                   0.1292   \n",
       "# of condition                                                3.0   \n",
       "\n",
       "                              1               2                     3  \\\n",
       "Rule            Oldpeak >= 2.45  MaxHR >= 177.5  ChestPainType == ATA   \n",
       "pred_y                        1               0                     0   \n",
       "Homogeneity              0.9464          0.9189                0.8939   \n",
       "Coverage                  0.094          0.0621                0.2215   \n",
       "# of condition              1.0             1.0                   1.0   \n",
       "\n",
       "                              4                    5                         6  \n",
       "Rule            Oldpeak >= 1.85  ExerciseAngina == Y  Oldpeak < 2.45, Sex != M  \n",
       "pred_y                        1                    1                         0  \n",
       "Homogeneity              0.8525               0.8217                    0.7923  \n",
       "Coverage                 0.2047               0.3859                    0.2181  \n",
       "# of condition              1.0                  1.0                       2.0  "
      ]
     },
     "execution_count": 42,
     "metadata": {},
     "output_type": "execute_result"
    }
   ],
   "source": [
    "cri.df_concise_rule"
   ]
  },
  {
   "cell_type": "code",
   "execution_count": 18,
   "id": "c660486e",
   "metadata": {},
   "outputs": [
    {
     "data": {
      "text/html": [
       "<div>\n",
       "<style scoped>\n",
       "    .dataframe tbody tr th:only-of-type {\n",
       "        vertical-align: middle;\n",
       "    }\n",
       "\n",
       "    .dataframe tbody tr th {\n",
       "        vertical-align: top;\n",
       "    }\n",
       "\n",
       "    .dataframe thead th {\n",
       "        text-align: right;\n",
       "    }\n",
       "</style>\n",
       "<table border=\"1\" class=\"dataframe\">\n",
       "  <thead>\n",
       "    <tr style=\"text-align: right;\">\n",
       "      <th></th>\n",
       "      <th>Age</th>\n",
       "      <th>Sex</th>\n",
       "      <th>ChestPainType</th>\n",
       "      <th>RestingBP</th>\n",
       "      <th>Cholesterol</th>\n",
       "      <th>FastingBS</th>\n",
       "      <th>RestingECG</th>\n",
       "      <th>MaxHR</th>\n",
       "      <th>ExerciseAngina</th>\n",
       "      <th>Oldpeak</th>\n",
       "      <th>ST_Slope</th>\n",
       "      <th>HeartDisease</th>\n",
       "    </tr>\n",
       "  </thead>\n",
       "  <tbody>\n",
       "    <tr>\n",
       "      <th>865</th>\n",
       "      <td>54</td>\n",
       "      <td>M</td>\n",
       "      <td>ASY</td>\n",
       "      <td>120</td>\n",
       "      <td>188</td>\n",
       "      <td>0</td>\n",
       "      <td>Normal</td>\n",
       "      <td>113</td>\n",
       "      <td>N</td>\n",
       "      <td>1.4</td>\n",
       "      <td>Flat</td>\n",
       "      <td>1</td>\n",
       "    </tr>\n",
       "    <tr>\n",
       "      <th>18</th>\n",
       "      <td>60</td>\n",
       "      <td>M</td>\n",
       "      <td>ASY</td>\n",
       "      <td>100</td>\n",
       "      <td>248</td>\n",
       "      <td>0</td>\n",
       "      <td>Normal</td>\n",
       "      <td>125</td>\n",
       "      <td>N</td>\n",
       "      <td>1.0</td>\n",
       "      <td>Flat</td>\n",
       "      <td>1</td>\n",
       "    </tr>\n",
       "    <tr>\n",
       "      <th>773</th>\n",
       "      <td>56</td>\n",
       "      <td>M</td>\n",
       "      <td>TA</td>\n",
       "      <td>120</td>\n",
       "      <td>193</td>\n",
       "      <td>0</td>\n",
       "      <td>LVH</td>\n",
       "      <td>162</td>\n",
       "      <td>N</td>\n",
       "      <td>1.9</td>\n",
       "      <td>Flat</td>\n",
       "      <td>0</td>\n",
       "    </tr>\n",
       "    <tr>\n",
       "      <th>719</th>\n",
       "      <td>63</td>\n",
       "      <td>M</td>\n",
       "      <td>ASY</td>\n",
       "      <td>130</td>\n",
       "      <td>254</td>\n",
       "      <td>0</td>\n",
       "      <td>LVH</td>\n",
       "      <td>147</td>\n",
       "      <td>N</td>\n",
       "      <td>1.4</td>\n",
       "      <td>Flat</td>\n",
       "      <td>1</td>\n",
       "    </tr>\n",
       "    <tr>\n",
       "      <th>757</th>\n",
       "      <td>50</td>\n",
       "      <td>M</td>\n",
       "      <td>NAP</td>\n",
       "      <td>140</td>\n",
       "      <td>233</td>\n",
       "      <td>0</td>\n",
       "      <td>Normal</td>\n",
       "      <td>163</td>\n",
       "      <td>N</td>\n",
       "      <td>0.6</td>\n",
       "      <td>Flat</td>\n",
       "      <td>1</td>\n",
       "    </tr>\n",
       "    <tr>\n",
       "      <th>911</th>\n",
       "      <td>59</td>\n",
       "      <td>M</td>\n",
       "      <td>ASY</td>\n",
       "      <td>164</td>\n",
       "      <td>176</td>\n",
       "      <td>1</td>\n",
       "      <td>LVH</td>\n",
       "      <td>90</td>\n",
       "      <td>N</td>\n",
       "      <td>1.0</td>\n",
       "      <td>Flat</td>\n",
       "      <td>1</td>\n",
       "    </tr>\n",
       "    <tr>\n",
       "      <th>625</th>\n",
       "      <td>59</td>\n",
       "      <td>M</td>\n",
       "      <td>ASY</td>\n",
       "      <td>135</td>\n",
       "      <td>234</td>\n",
       "      <td>0</td>\n",
       "      <td>Normal</td>\n",
       "      <td>161</td>\n",
       "      <td>N</td>\n",
       "      <td>0.5</td>\n",
       "      <td>Flat</td>\n",
       "      <td>0</td>\n",
       "    </tr>\n",
       "    <tr>\n",
       "      <th>587</th>\n",
       "      <td>37</td>\n",
       "      <td>M</td>\n",
       "      <td>NAP</td>\n",
       "      <td>118</td>\n",
       "      <td>240</td>\n",
       "      <td>0</td>\n",
       "      <td>LVH</td>\n",
       "      <td>165</td>\n",
       "      <td>N</td>\n",
       "      <td>1.0</td>\n",
       "      <td>Flat</td>\n",
       "      <td>0</td>\n",
       "    </tr>\n",
       "    <tr>\n",
       "      <th>849</th>\n",
       "      <td>62</td>\n",
       "      <td>M</td>\n",
       "      <td>NAP</td>\n",
       "      <td>130</td>\n",
       "      <td>231</td>\n",
       "      <td>0</td>\n",
       "      <td>Normal</td>\n",
       "      <td>146</td>\n",
       "      <td>N</td>\n",
       "      <td>1.8</td>\n",
       "      <td>Flat</td>\n",
       "      <td>0</td>\n",
       "    </tr>\n",
       "    <tr>\n",
       "      <th>520</th>\n",
       "      <td>64</td>\n",
       "      <td>M</td>\n",
       "      <td>ASY</td>\n",
       "      <td>130</td>\n",
       "      <td>223</td>\n",
       "      <td>0</td>\n",
       "      <td>ST</td>\n",
       "      <td>128</td>\n",
       "      <td>N</td>\n",
       "      <td>0.5</td>\n",
       "      <td>Flat</td>\n",
       "      <td>0</td>\n",
       "    </tr>\n",
       "    <tr>\n",
       "      <th>716</th>\n",
       "      <td>67</td>\n",
       "      <td>M</td>\n",
       "      <td>ASY</td>\n",
       "      <td>120</td>\n",
       "      <td>237</td>\n",
       "      <td>0</td>\n",
       "      <td>Normal</td>\n",
       "      <td>71</td>\n",
       "      <td>N</td>\n",
       "      <td>1.0</td>\n",
       "      <td>Flat</td>\n",
       "      <td>1</td>\n",
       "    </tr>\n",
       "    <tr>\n",
       "      <th>176</th>\n",
       "      <td>54</td>\n",
       "      <td>M</td>\n",
       "      <td>ASY</td>\n",
       "      <td>140</td>\n",
       "      <td>216</td>\n",
       "      <td>0</td>\n",
       "      <td>Normal</td>\n",
       "      <td>105</td>\n",
       "      <td>N</td>\n",
       "      <td>1.5</td>\n",
       "      <td>Flat</td>\n",
       "      <td>1</td>\n",
       "    </tr>\n",
       "    <tr>\n",
       "      <th>623</th>\n",
       "      <td>60</td>\n",
       "      <td>M</td>\n",
       "      <td>ASY</td>\n",
       "      <td>140</td>\n",
       "      <td>293</td>\n",
       "      <td>0</td>\n",
       "      <td>LVH</td>\n",
       "      <td>170</td>\n",
       "      <td>N</td>\n",
       "      <td>1.2</td>\n",
       "      <td>Flat</td>\n",
       "      <td>1</td>\n",
       "    </tr>\n",
       "    <tr>\n",
       "      <th>890</th>\n",
       "      <td>64</td>\n",
       "      <td>M</td>\n",
       "      <td>TA</td>\n",
       "      <td>170</td>\n",
       "      <td>227</td>\n",
       "      <td>0</td>\n",
       "      <td>LVH</td>\n",
       "      <td>155</td>\n",
       "      <td>N</td>\n",
       "      <td>0.6</td>\n",
       "      <td>Flat</td>\n",
       "      <td>0</td>\n",
       "    </tr>\n",
       "    <tr>\n",
       "      <th>599</th>\n",
       "      <td>56</td>\n",
       "      <td>M</td>\n",
       "      <td>ASY</td>\n",
       "      <td>130</td>\n",
       "      <td>203</td>\n",
       "      <td>1</td>\n",
       "      <td>Normal</td>\n",
       "      <td>98</td>\n",
       "      <td>N</td>\n",
       "      <td>1.5</td>\n",
       "      <td>Flat</td>\n",
       "      <td>1</td>\n",
       "    </tr>\n",
       "    <tr>\n",
       "      <th>833</th>\n",
       "      <td>54</td>\n",
       "      <td>M</td>\n",
       "      <td>NAP</td>\n",
       "      <td>120</td>\n",
       "      <td>258</td>\n",
       "      <td>0</td>\n",
       "      <td>LVH</td>\n",
       "      <td>147</td>\n",
       "      <td>N</td>\n",
       "      <td>0.4</td>\n",
       "      <td>Flat</td>\n",
       "      <td>0</td>\n",
       "    </tr>\n",
       "    <tr>\n",
       "      <th>645</th>\n",
       "      <td>57</td>\n",
       "      <td>M</td>\n",
       "      <td>NAP</td>\n",
       "      <td>128</td>\n",
       "      <td>229</td>\n",
       "      <td>0</td>\n",
       "      <td>LVH</td>\n",
       "      <td>150</td>\n",
       "      <td>N</td>\n",
       "      <td>0.4</td>\n",
       "      <td>Flat</td>\n",
       "      <td>1</td>\n",
       "    </tr>\n",
       "    <tr>\n",
       "      <th>793</th>\n",
       "      <td>67</td>\n",
       "      <td>M</td>\n",
       "      <td>ASY</td>\n",
       "      <td>125</td>\n",
       "      <td>254</td>\n",
       "      <td>1</td>\n",
       "      <td>Normal</td>\n",
       "      <td>163</td>\n",
       "      <td>N</td>\n",
       "      <td>0.2</td>\n",
       "      <td>Flat</td>\n",
       "      <td>1</td>\n",
       "    </tr>\n",
       "    <tr>\n",
       "      <th>711</th>\n",
       "      <td>66</td>\n",
       "      <td>M</td>\n",
       "      <td>ASY</td>\n",
       "      <td>120</td>\n",
       "      <td>302</td>\n",
       "      <td>0</td>\n",
       "      <td>LVH</td>\n",
       "      <td>151</td>\n",
       "      <td>N</td>\n",
       "      <td>0.4</td>\n",
       "      <td>Flat</td>\n",
       "      <td>0</td>\n",
       "    </tr>\n",
       "    <tr>\n",
       "      <th>196</th>\n",
       "      <td>49</td>\n",
       "      <td>M</td>\n",
       "      <td>ASY</td>\n",
       "      <td>120</td>\n",
       "      <td>297</td>\n",
       "      <td>0</td>\n",
       "      <td>Normal</td>\n",
       "      <td>132</td>\n",
       "      <td>N</td>\n",
       "      <td>1.0</td>\n",
       "      <td>Flat</td>\n",
       "      <td>0</td>\n",
       "    </tr>\n",
       "    <tr>\n",
       "      <th>573</th>\n",
       "      <td>72</td>\n",
       "      <td>M</td>\n",
       "      <td>ASY</td>\n",
       "      <td>160</td>\n",
       "      <td>123</td>\n",
       "      <td>1</td>\n",
       "      <td>LVH</td>\n",
       "      <td>130</td>\n",
       "      <td>N</td>\n",
       "      <td>1.5</td>\n",
       "      <td>Flat</td>\n",
       "      <td>1</td>\n",
       "    </tr>\n",
       "    <tr>\n",
       "      <th>785</th>\n",
       "      <td>69</td>\n",
       "      <td>M</td>\n",
       "      <td>TA</td>\n",
       "      <td>160</td>\n",
       "      <td>234</td>\n",
       "      <td>1</td>\n",
       "      <td>LVH</td>\n",
       "      <td>131</td>\n",
       "      <td>N</td>\n",
       "      <td>0.1</td>\n",
       "      <td>Flat</td>\n",
       "      <td>0</td>\n",
       "    </tr>\n",
       "    <tr>\n",
       "      <th>883</th>\n",
       "      <td>57</td>\n",
       "      <td>M</td>\n",
       "      <td>ASY</td>\n",
       "      <td>140</td>\n",
       "      <td>192</td>\n",
       "      <td>0</td>\n",
       "      <td>Normal</td>\n",
       "      <td>148</td>\n",
       "      <td>N</td>\n",
       "      <td>0.4</td>\n",
       "      <td>Flat</td>\n",
       "      <td>0</td>\n",
       "    </tr>\n",
       "  </tbody>\n",
       "</table>\n",
       "</div>"
      ],
      "text/plain": [
       "     Age Sex ChestPainType  RestingBP  Cholesterol  FastingBS RestingECG  \\\n",
       "865   54   M           ASY        120          188          0     Normal   \n",
       "18    60   M           ASY        100          248          0     Normal   \n",
       "773   56   M            TA        120          193          0        LVH   \n",
       "719   63   M           ASY        130          254          0        LVH   \n",
       "757   50   M           NAP        140          233          0     Normal   \n",
       "911   59   M           ASY        164          176          1        LVH   \n",
       "625   59   M           ASY        135          234          0     Normal   \n",
       "587   37   M           NAP        118          240          0        LVH   \n",
       "849   62   M           NAP        130          231          0     Normal   \n",
       "520   64   M           ASY        130          223          0         ST   \n",
       "716   67   M           ASY        120          237          0     Normal   \n",
       "176   54   M           ASY        140          216          0     Normal   \n",
       "623   60   M           ASY        140          293          0        LVH   \n",
       "890   64   M            TA        170          227          0        LVH   \n",
       "599   56   M           ASY        130          203          1     Normal   \n",
       "833   54   M           NAP        120          258          0        LVH   \n",
       "645   57   M           NAP        128          229          0        LVH   \n",
       "793   67   M           ASY        125          254          1     Normal   \n",
       "711   66   M           ASY        120          302          0        LVH   \n",
       "196   49   M           ASY        120          297          0     Normal   \n",
       "573   72   M           ASY        160          123          1        LVH   \n",
       "785   69   M            TA        160          234          1        LVH   \n",
       "883   57   M           ASY        140          192          0     Normal   \n",
       "\n",
       "     MaxHR ExerciseAngina  Oldpeak ST_Slope  HeartDisease  \n",
       "865    113              N      1.4     Flat             1  \n",
       "18     125              N      1.0     Flat             1  \n",
       "773    162              N      1.9     Flat             0  \n",
       "719    147              N      1.4     Flat             1  \n",
       "757    163              N      0.6     Flat             1  \n",
       "911     90              N      1.0     Flat             1  \n",
       "625    161              N      0.5     Flat             0  \n",
       "587    165              N      1.0     Flat             0  \n",
       "849    146              N      1.8     Flat             0  \n",
       "520    128              N      0.5     Flat             0  \n",
       "716     71              N      1.0     Flat             1  \n",
       "176    105              N      1.5     Flat             1  \n",
       "623    170              N      1.2     Flat             1  \n",
       "890    155              N      0.6     Flat             0  \n",
       "599     98              N      1.5     Flat             1  \n",
       "833    147              N      0.4     Flat             0  \n",
       "645    150              N      0.4     Flat             1  \n",
       "793    163              N      0.2     Flat             1  \n",
       "711    151              N      0.4     Flat             0  \n",
       "196    132              N      1.0     Flat             0  \n",
       "573    130              N      1.5     Flat             1  \n",
       "785    131              N      0.1     Flat             0  \n",
       "883    148              N      0.4     Flat             0  "
      ]
     },
     "execution_count": 18,
     "metadata": {},
     "output_type": "execute_result"
    }
   ],
   "source": [
    "# dataset not included in rules\n",
    "cri.others_df"
   ]
  },
  {
   "cell_type": "markdown",
   "id": "201948cd",
   "metadata": {},
   "source": [
    "## * Rule Relation 독립/종속\n",
    "### 1. (y = 1) rule\n",
    "* r1 = df[df['Oldpeak'] >= 2.45]\n",
    "* r2 = df[df['ExerciseAngina'] == 'Y']\n",
    "\n",
    "\n",
    "### 2. (y = 0) rule\n",
    "* r1 = df[(df['Oldpeak'] < 2.45) & (df['ST_Slope'] != 'Flat') & (df[''ChestPainType] == 'NAP')]\n",
    "* r2 = df[df['MaxHR'] >= 177.5]\n",
    "* r3 = df[df['ChestPainType'] == 'ATA']\n",
    "* r4 = df[(df['Oldpeak'] < 2.45) & (df['Sex'] != 'M')]"
   ]
  },
  {
   "cell_type": "code",
   "execution_count": 18,
   "id": "c550d424",
   "metadata": {},
   "outputs": [],
   "source": [
    "from scipy.stats import chi2_contingency"
   ]
  },
  {
   "cell_type": "code",
   "execution_count": 43,
   "id": "7c24de6a",
   "metadata": {},
   "outputs": [],
   "source": [
    "# y = 1\n",
    "r1 = df[df['Oldpeak'] >= 2.45]\n",
    "r2 = df[df['ExerciseAngina'] == 'Y']"
   ]
  },
  {
   "cell_type": "code",
   "execution_count": 44,
   "id": "cab822c3",
   "metadata": {
    "scrolled": true
   },
   "outputs": [
    {
     "name": "stdout",
     "output_type": "stream",
     "text": [
      "Chi square : 44.60901327253723\n",
      "P-Value : 2.4058157022225023e-11\n"
     ]
    }
   ],
   "source": [
    "# R1 & R2\n",
    "x11 = r1[r1['ExerciseAngina'] == 'Y'].shape[0]\n",
    "x10 = r1[r1['ExerciseAngina'] != 'Y'].shape[0]\n",
    "x01 = r2[r2['Oldpeak'] < 2.45].shape[0]\n",
    "x00 = df[(df['Oldpeak'] < 2.45) & (df['ExerciseAngina'] != 'Y')].shape[0]\n",
    "\n",
    "obs = pd.DataFrame({'r2(O)': [x11, x01], 'r2(X)': [x10, x00]})\n",
    "obs.index = ['r1(O)', 'r1(X)']\n",
    "\n",
    "chiresult = chi2_contingency(obs, correction = False)\n",
    "print('Chi square : {}'.format(chiresult[0]))\n",
    "print('P-Value : {}'.format(chiresult[1]))"
   ]
  },
  {
   "cell_type": "code",
   "execution_count": null,
   "id": "5f03e1b7",
   "metadata": {},
   "outputs": [],
   "source": []
  },
  {
   "cell_type": "code",
   "execution_count": 46,
   "id": "4fcc310f",
   "metadata": {},
   "outputs": [],
   "source": [
    "# y = 0\n",
    "r1 = df[(df['Oldpeak'] < 2.45) & (df['ST_Slope'] != 'Flat') & (df['ChestPainType'] == 'NAP')]\n",
    "r2 = df[df['MaxHR'] >= 177.5]\n",
    "r3 = df[df['ChestPainType'] == 'ATA']\n",
    "r4 = df[(df['Oldpeak'] < 2.45) & (df['Sex'] != 'M')]"
   ]
  },
  {
   "cell_type": "code",
   "execution_count": 49,
   "id": "3078bcf4",
   "metadata": {},
   "outputs": [
    {
     "name": "stdout",
     "output_type": "stream",
     "text": [
      "Chi square : 2.9432876205692646\n",
      "P-Value : 0.08623505109211292\n"
     ]
    }
   ],
   "source": [
    "# R1 & R2\n",
    "x11 = r1[r1['MaxHR'] >= 177.5].shape[0]\n",
    "x10 = r1[r1['MaxHR'] < 177.5].shape[0]\n",
    "x01 = r2[(r2['Oldpeak'] >= 2.45) & (r2['ST_Slope'] == 'Flat') & (r2['ChestPainType'] != 'NAP')].shape[0]\n",
    "x00 = df[(df['MaxHR'] < 177.5) & (df['Oldpeak'] >= 2.45) & (df['ST_Slope'] == 'Flat') & (df['ChestPainType'] != 'NAP')].shape[0]\n",
    "\n",
    "obs = pd.DataFrame({'r2(O)': [x11, x01], 'r2(X)': [x10, x00]})\n",
    "obs.index = ['r1(O)', 'r1(X)']\n",
    "\n",
    "chiresult = chi2_contingency(obs, correction = False)\n",
    "print('Chi square : {}'.format(chiresult[0]))\n",
    "print('P-Value : {}'.format(chiresult[1]))"
   ]
  },
  {
   "cell_type": "code",
   "execution_count": 50,
   "id": "bdcfdee9",
   "metadata": {},
   "outputs": [
    {
     "name": "stdout",
     "output_type": "stream",
     "text": [
      "Chi square : 4.7171367309912595\n",
      "P-Value : 0.029863430171822167\n"
     ]
    }
   ],
   "source": [
    "# R1 & R3\n",
    "x11 = r1[r1['ChestPainType'] == 'ATA'].shape[0]\n",
    "x10 = r1[r1['ChestPainType'] != 'ATA'].shape[0]\n",
    "x01 = r3[(r3['Oldpeak'] >= 2.45) & (r3['ST_Slope'] == 'Flat') & (r3['ChestPainType'] != 'NAP')].shape[0]\n",
    "x00 = df[(df['Oldpeak'] >= 2.45) & (df['ST_Slope'] == 'Flat') & (df['ChestPainType'] != 'NAP') & (df['ChestPainType'] != 'ATA')].shape[0]\n",
    "\n",
    "obs = pd.DataFrame({'r3(O)': [x11, x01], 'r3(X)': [x10, x00]})\n",
    "obs.index = ['r1(O)', 'r1(X)']\n",
    "\n",
    "chiresult = chi2_contingency(obs, correction = False)\n",
    "print('Chi square : {}'.format(chiresult[0]))\n",
    "print('P-Value : {}'.format(chiresult[1]))"
   ]
  },
  {
   "cell_type": "code",
   "execution_count": 51,
   "id": "bc5aafcf",
   "metadata": {},
   "outputs": [
    {
     "name": "stdout",
     "output_type": "stream",
     "text": [
      "Chi square : 71.99999999999999\n",
      "P-Value : 2.1519736712499042e-17\n"
     ]
    }
   ],
   "source": [
    "# R1 & R4\n",
    "x11 = r1[(r1['Oldpeak'] < 2.45) & (r1['Sex'] != 'M')].shape[0]\n",
    "x10 = r1[(r1['Oldpeak'] >= 2.45) & (r1['Sex'] == 'M')].shape[0]\n",
    "x01 = r4[(r4['Oldpeak'] >= 2.45) & (r4['ST_Slope'] == 'Flat') & (r4['ChestPainType'] != 'NAP')].shape[0]\n",
    "x00 = df[(df['Oldpeak'] >= 2.45) & (df['ST_Slope'] == 'Flat') & (df['ChestPainType'] != 'NAP') & (df['Sex'] == 'M')].shape[0]\n",
    "\n",
    "obs = pd.DataFrame({'r4(O)': [x11, x01], 'r4(X)': [x10, x00]})\n",
    "obs.index = ['r1(O)', 'r1(X)']\n",
    "\n",
    "chiresult = chi2_contingency(obs, correction = False)\n",
    "print('Chi square : {}'.format(chiresult[0]))\n",
    "print('P-Value : {}'.format(chiresult[1]))"
   ]
  },
  {
   "cell_type": "code",
   "execution_count": 52,
   "id": "a8e93896",
   "metadata": {},
   "outputs": [
    {
     "name": "stdout",
     "output_type": "stream",
     "text": [
      "Chi square : 6.126908104467559\n",
      "P-Value : 0.013313951016868003\n"
     ]
    }
   ],
   "source": [
    "# R2 & R3\n",
    "x11 = r2[r2['ChestPainType'] == 'ATA'].shape[0]\n",
    "x10 = r2[r2['ChestPainType'] != 'ATA'].shape[0]\n",
    "x01 = r3[r3['MaxHR'] < 177.5].shape[0]\n",
    "x00 = df[(df['MaxHR'] < 177.5) & (df['ChestPainType'] != 'ATA')].shape[0]\n",
    "\n",
    "obs = pd.DataFrame({'r3(O)': [x11, x01], 'r3(X)': [x10, x00]})\n",
    "obs.index = ['r2(O)', 'r2(X)']\n",
    "\n",
    "chiresult = chi2_contingency(obs, correction = False)\n",
    "print('Chi square : {}'.format(chiresult[0]))\n",
    "print('P-Value : {}'.format(chiresult[1]))"
   ]
  },
  {
   "cell_type": "code",
   "execution_count": 53,
   "id": "a1f58498",
   "metadata": {},
   "outputs": [
    {
     "name": "stdout",
     "output_type": "stream",
     "text": [
      "Chi square : 0.721231986422022\n",
      "P-Value : 0.3957400924014586\n"
     ]
    }
   ],
   "source": [
    "# R2 & R4\n",
    "x11 = r2[(r2['Oldpeak'] < 2.45) & (r2['Sex'] != 'M')].shape[0]\n",
    "x10 = r2[(r2['Oldpeak'] >= 2.45) & (r2['Sex'] == 'M')].shape[0]\n",
    "x01 = r4[r4['MaxHR'] < 177.5].shape[0]\n",
    "x00 = df[(df['MaxHR'] < 177.5) & (df['Oldpeak'] >= 2.45) & (df['Sex'] == 'M')].shape[0]\n",
    "\n",
    "obs = pd.DataFrame({'r4(O)': [x11, x01], 'r4(X)': [x10, x00]})\n",
    "obs.index = ['r2(O)', 'r2(X)']\n",
    "\n",
    "chiresult = chi2_contingency(obs, correction = False)\n",
    "print('Chi square : {}'.format(chiresult[0]))\n",
    "print('P-Value : {}'.format(chiresult[1]))"
   ]
  },
  {
   "cell_type": "code",
   "execution_count": 54,
   "id": "7f181978",
   "metadata": {},
   "outputs": [
    {
     "name": "stdout",
     "output_type": "stream",
     "text": [
      "Chi square : 23.862521615917473\n",
      "P-Value : 1.0346665315119351e-06\n"
     ]
    }
   ],
   "source": [
    "# R3 & R4\n",
    "x11 = r3[(r3['Oldpeak'] < 2.45) & (r3['Sex'] != 'M')].shape[0]\n",
    "x10 = r3[(r3['Oldpeak'] >= 2.45) & (r3['Sex'] == 'M')].shape[0]\n",
    "x01 = r4[r4['ChestPainType'] != 'ATA'].shape[0]\n",
    "x00 = df[(df['ChestPainType'] != 'ATA') & (df['Oldpeak'] >= 2.45) & (df['Sex'] == 'M')].shape[0]\n",
    "\n",
    "obs = pd.DataFrame({'r4(O)': [x11, x01], 'r4(X)': [x10, x00]})\n",
    "obs.index = ['r3(O)', 'r3(X)']\n",
    "\n",
    "chiresult = chi2_contingency(obs, correction = False)\n",
    "print('Chi square : {}'.format(chiresult[0]))\n",
    "print('P-Value : {}'.format(chiresult[1]))"
   ]
  },
  {
   "cell_type": "markdown",
   "id": "9e49f181",
   "metadata": {},
   "source": [
    "### 3-1. Stable DT"
   ]
  },
  {
   "cell_type": "code",
   "execution_count": 20,
   "id": "61a65d02",
   "metadata": {},
   "outputs": [],
   "source": [
    "from modules.stableDT import stableDecisionTree # file 제공\n",
    "from modules.stableDT import visualize_tree # file 제공"
   ]
  },
  {
   "cell_type": "code",
   "execution_count": 21,
   "id": "d7af4949",
   "metadata": {},
   "outputs": [],
   "source": [
    "X = df[['Age', 'Sex',\n",
    "       'ChestPainType', 'RestingBP',\n",
    "       'Cholesterol', 'FastingBS', 'RestingECG',\n",
    "       'MaxHR', 'ExerciseAngina', 'Oldpeak', 'ST_Slope']].copy()\n",
    "y = df['HeartDisease'].copy()"
   ]
  },
  {
   "cell_type": "code",
   "execution_count": 22,
   "id": "c0fbe74c",
   "metadata": {},
   "outputs": [],
   "source": [
    "# training : test 8:2\n",
    "X_train, X_test, y_train, y_test = train_test_split(X, y, test_size=0.2, random_state=1333)"
   ]
  },
  {
   "cell_type": "code",
   "execution_count": 23,
   "id": "577a4bdf",
   "metadata": {},
   "outputs": [],
   "source": [
    "# fitting\n",
    "min_sample_ratio = 0.03 # 최소 샘플 수로 dataset의 샘플 수의 3%\n",
    "#max_depth = 4\n",
    "impurity_measure='entropy'\n",
    "iter_num=30\n",
    "\n",
    "clf = stableDecisionTree(\n",
    "    min_sample = min_sample_ratio*len(X), \n",
    "    iter_num = iter_num,\n",
    "    max_depth = 3,\n",
    "    impurity_measure = impurity_measure)\n",
    "clf.fit(X_train,y_train)"
   ]
  },
  {
   "cell_type": "code",
   "execution_count": 24,
   "id": "729cceb9",
   "metadata": {},
   "outputs": [
    {
     "data": {
      "text/plain": [
       "(0.8866666666666667, 0.9028571428571429)"
      ]
     },
     "execution_count": 24,
     "metadata": {},
     "output_type": "execute_result"
    }
   ],
   "source": [
    "# predictive performance\n",
    "from sklearn.metrics import accuracy_score\n",
    "from sklearn.metrics import f1_score\n",
    "from sklearn.metrics import confusion_matrix\n",
    "\n",
    "pred_y = clf.predict(X_test)\n",
    "acc = accuracy_score(y_test,pred_y)\n",
    "f1 = f1_score(y_test, pred_y)\n",
    "acc, f1"
   ]
  },
  {
   "cell_type": "code",
   "execution_count": 25,
   "id": "0d8189ed",
   "metadata": {},
   "outputs": [
    {
     "name": "stdout",
     "output_type": "stream",
     "text": [
      "[[54 11]\n",
      " [ 6 79]]\n"
     ]
    }
   ],
   "source": [
    "# confusion matrix\n",
    "cm = confusion_matrix(y_test, pred_y)\n",
    "print(cm)"
   ]
  },
  {
   "cell_type": "code",
   "execution_count": 26,
   "id": "cc6ff703",
   "metadata": {},
   "outputs": [
    {
     "name": "stdout",
     "output_type": "stream",
     "text": [
      "IF ST_Slope != Up AND ChestPainType != ASY AND Sex != F THEN y = 1\n",
      "IF ST_Slope != Up AND ChestPainType == ASY AND Sex != F THEN y = 1\n",
      "IF ST_Slope != Up AND ChestPainType == ASY AND Sex == F THEN y = 1\n",
      "IF ST_Slope == Up AND ChestPainType == ASY AND ExerciseAngina != N THEN y = 1\n",
      "IF ST_Slope != Up AND ChestPainType != ASY AND Sex == F THEN y = 0\n",
      "IF ST_Slope == Up AND ChestPainType != ASY AND Age > 56.0 THEN y = 0\n",
      "IF ST_Slope == Up AND ChestPainType != ASY AND Age <= 56.0 THEN y = 0\n",
      "IF ST_Slope == Up AND ChestPainType == ASY AND ExerciseAngina == N THEN y = 0\n"
     ]
    }
   ],
   "source": [
    "# exporting rules to text\n",
    "clf.export_text()"
   ]
  },
  {
   "cell_type": "code",
   "execution_count": 27,
   "id": "2228600f",
   "metadata": {},
   "outputs": [
    {
     "data": {
      "image/svg+xml": [
       "<?xml version=\"1.0\" encoding=\"UTF-8\" standalone=\"no\"?>\n",
       "<!DOCTYPE svg PUBLIC \"-//W3C//DTD SVG 1.1//EN\"\n",
       " \"http://www.w3.org/Graphics/SVG/1.1/DTD/svg11.dtd\">\n",
       "<!-- Generated by graphviz version 3.0.0 (20220226.1711)\n",
       " -->\n",
       "<!-- Pages: 1 -->\n",
       "<svg width=\"1054pt\" height=\"396pt\"\n",
       " viewBox=\"0.00 0.00 1054.00 396.00\" xmlns=\"http://www.w3.org/2000/svg\" xmlns:xlink=\"http://www.w3.org/1999/xlink\">\n",
       "<g id=\"graph0\" class=\"graph\" transform=\"scale(1 1) rotate(0) translate(4 392)\">\n",
       "<polygon fill=\"white\" stroke=\"transparent\" points=\"-4,4 -4,-392 1050,-392 1050,4 -4,4\"/>\n",
       "<!-- 1 -->\n",
       "<g id=\"node1\" class=\"node\">\n",
       "<title>1</title>\n",
       "<polygon fill=\"none\" stroke=\"black\" points=\"559,-388 444,-388 444,-320 559,-320 559,-388\"/>\n",
       "<text text-anchor=\"middle\" x=\"501.5\" y=\"-372.8\" font-family=\"Times New Roman,serif\" font-size=\"14.00\">ST_Slope == Up</text>\n",
       "<text text-anchor=\"middle\" x=\"501.5\" y=\"-357.8\" font-family=\"Times New Roman,serif\" font-size=\"14.00\">entropy : 0.9941</text>\n",
       "<text text-anchor=\"middle\" x=\"501.5\" y=\"-342.8\" font-family=\"Times New Roman,serif\" font-size=\"14.00\">samples : 596</text>\n",
       "<text text-anchor=\"middle\" x=\"501.5\" y=\"-327.8\" font-family=\"Times New Roman,serif\" font-size=\"14.00\">value : [325, 271]</text>\n",
       "</g>\n",
       "<!-- 2 -->\n",
       "<g id=\"node2\" class=\"node\">\n",
       "<title>2</title>\n",
       "<polygon fill=\"none\" stroke=\"black\" points=\"492.5,-284 338.5,-284 338.5,-216 492.5,-216 492.5,-284\"/>\n",
       "<text text-anchor=\"middle\" x=\"415.5\" y=\"-268.8\" font-family=\"Times New Roman,serif\" font-size=\"14.00\">ChestPainType == ASY</text>\n",
       "<text text-anchor=\"middle\" x=\"415.5\" y=\"-253.8\" font-family=\"Times New Roman,serif\" font-size=\"14.00\">entropy : 0.5627</text>\n",
       "<text text-anchor=\"middle\" x=\"415.5\" y=\"-238.8\" font-family=\"Times New Roman,serif\" font-size=\"14.00\">samples : 288</text>\n",
       "<text text-anchor=\"middle\" x=\"415.5\" y=\"-223.8\" font-family=\"Times New Roman,serif\" font-size=\"14.00\">value : [250, 38]</text>\n",
       "</g>\n",
       "<!-- 1&#45;&gt;2 -->\n",
       "<g id=\"edge1\" class=\"edge\">\n",
       "<title>1&#45;&gt;2</title>\n",
       "<path fill=\"none\" stroke=\"black\" d=\"M473.58,-319.88C466.07,-310.98 457.86,-301.24 450.03,-291.96\"/>\n",
       "<polygon fill=\"black\" stroke=\"black\" points=\"452.7,-289.69 443.58,-284.3 447.35,-294.2 452.7,-289.69\"/>\n",
       "<text text-anchor=\"middle\" x=\"450.9\" y=\"-305.67\" font-family=\"Times New Roman,serif\" font-size=\"14.00\">yes</text>\n",
       "</g>\n",
       "<!-- 9 -->\n",
       "<g id=\"node9\" class=\"node\">\n",
       "<title>9</title>\n",
       "<polygon fill=\"none\" stroke=\"black\" points=\"707.5,-284 553.5,-284 553.5,-216 707.5,-216 707.5,-284\"/>\n",
       "<text text-anchor=\"middle\" x=\"630.5\" y=\"-268.8\" font-family=\"Times New Roman,serif\" font-size=\"14.00\">ChestPainType == ASY</text>\n",
       "<text text-anchor=\"middle\" x=\"630.5\" y=\"-253.8\" font-family=\"Times New Roman,serif\" font-size=\"14.00\">entropy : 0.8008</text>\n",
       "<text text-anchor=\"middle\" x=\"630.5\" y=\"-238.8\" font-family=\"Times New Roman,serif\" font-size=\"14.00\">samples : 308</text>\n",
       "<text text-anchor=\"middle\" x=\"630.5\" y=\"-223.8\" font-family=\"Times New Roman,serif\" font-size=\"14.00\">value : [233, 75]</text>\n",
       "</g>\n",
       "<!-- 1&#45;&gt;9 -->\n",
       "<g id=\"edge8\" class=\"edge\">\n",
       "<title>1&#45;&gt;9</title>\n",
       "<path fill=\"none\" stroke=\"black\" d=\"M543.38,-319.88C555.21,-310.53 568.2,-300.26 580.46,-290.57\"/>\n",
       "<polygon fill=\"black\" stroke=\"black\" points=\"582.71,-293.25 588.39,-284.3 578.37,-287.76 582.71,-293.25\"/>\n",
       "<text text-anchor=\"middle\" x=\"579.41\" y=\"-298.47\" font-family=\"Times New Roman,serif\" font-size=\"14.00\"> no</text>\n",
       "</g>\n",
       "<!-- 3 -->\n",
       "<g id=\"node3\" class=\"node\">\n",
       "<title>3</title>\n",
       "<polygon fill=\"none\" stroke=\"black\" points=\"259,-180 122,-180 122,-112 259,-112 259,-180\"/>\n",
       "<text text-anchor=\"middle\" x=\"190.5\" y=\"-164.8\" font-family=\"Times New Roman,serif\" font-size=\"14.00\">ExerciseAngina == N</text>\n",
       "<text text-anchor=\"middle\" x=\"190.5\" y=\"-149.8\" font-family=\"Times New Roman,serif\" font-size=\"14.00\">entropy : 0.9556</text>\n",
       "<text text-anchor=\"middle\" x=\"190.5\" y=\"-134.8\" font-family=\"Times New Roman,serif\" font-size=\"14.00\">samples : 77</text>\n",
       "<text text-anchor=\"middle\" x=\"190.5\" y=\"-119.8\" font-family=\"Times New Roman,serif\" font-size=\"14.00\">value : [48, 29]</text>\n",
       "</g>\n",
       "<!-- 2&#45;&gt;3 -->\n",
       "<g id=\"edge2\" class=\"edge\">\n",
       "<title>2&#45;&gt;3</title>\n",
       "<path fill=\"none\" stroke=\"black\" d=\"M342.45,-215.88C318.89,-205.2 292.68,-193.32 268.76,-182.48\"/>\n",
       "<polygon fill=\"black\" stroke=\"black\" points=\"269.92,-179.16 259.36,-178.22 267.03,-185.54 269.92,-179.16\"/>\n",
       "<text text-anchor=\"middle\" x=\"317.45\" y=\"-212.45\" font-family=\"Times New Roman,serif\" font-size=\"14.00\">yes</text>\n",
       "</g>\n",
       "<!-- 6 -->\n",
       "<g id=\"node6\" class=\"node\">\n",
       "<title>6</title>\n",
       "<polygon fill=\"none\" stroke=\"black\" points=\"469,-180 362,-180 362,-112 469,-112 469,-180\"/>\n",
       "<text text-anchor=\"middle\" x=\"415.5\" y=\"-164.8\" font-family=\"Times New Roman,serif\" font-size=\"14.00\">Age &lt;= 56.0</text>\n",
       "<text text-anchor=\"middle\" x=\"415.5\" y=\"-149.8\" font-family=\"Times New Roman,serif\" font-size=\"14.00\">entropy : 0.2543</text>\n",
       "<text text-anchor=\"middle\" x=\"415.5\" y=\"-134.8\" font-family=\"Times New Roman,serif\" font-size=\"14.00\">samples : 211</text>\n",
       "<text text-anchor=\"middle\" x=\"415.5\" y=\"-119.8\" font-family=\"Times New Roman,serif\" font-size=\"14.00\">value : [202, 9]</text>\n",
       "</g>\n",
       "<!-- 2&#45;&gt;6 -->\n",
       "<g id=\"edge5\" class=\"edge\">\n",
       "<title>2&#45;&gt;6</title>\n",
       "<path fill=\"none\" stroke=\"black\" d=\"M415.5,-215.88C415.5,-207.78 415.5,-198.98 415.5,-190.47\"/>\n",
       "<polygon fill=\"black\" stroke=\"black\" points=\"419,-190.3 415.5,-180.3 412,-190.3 419,-190.3\"/>\n",
       "<text text-anchor=\"middle\" x=\"423.95\" y=\"-194.73\" font-family=\"Times New Roman,serif\" font-size=\"14.00\"> no</text>\n",
       "</g>\n",
       "<!-- 4 -->\n",
       "<g id=\"node4\" class=\"node\">\n",
       "<title>4</title>\n",
       "<polygon fill=\"none\" stroke=\"black\" points=\"111,-72 4,-72 4,-4 111,-4 111,-72\"/>\n",
       "<polygon fill=\"none\" stroke=\"black\" points=\"115,-76 0,-76 0,0 115,0 115,-76\"/>\n",
       "<text text-anchor=\"middle\" x=\"57.5\" y=\"-56.8\" font-family=\"Times New Roman,serif\" font-size=\"14.00\">predicted_y = 0</text>\n",
       "<text text-anchor=\"middle\" x=\"57.5\" y=\"-41.8\" font-family=\"Times New Roman,serif\" font-size=\"14.00\">entropy : 0.7642</text>\n",
       "<text text-anchor=\"middle\" x=\"57.5\" y=\"-26.8\" font-family=\"Times New Roman,serif\" font-size=\"14.00\">samples : 54</text>\n",
       "<text text-anchor=\"middle\" x=\"57.5\" y=\"-11.8\" font-family=\"Times New Roman,serif\" font-size=\"14.00\">value : [42, 12]</text>\n",
       "</g>\n",
       "<!-- 3&#45;&gt;4 -->\n",
       "<g id=\"edge3\" class=\"edge\">\n",
       "<title>3&#45;&gt;4</title>\n",
       "<path fill=\"none\" stroke=\"black\" d=\"M148.78,-111.75C137.16,-102.49 124.36,-92.28 112.11,-82.52\"/>\n",
       "<polygon fill=\"black\" stroke=\"black\" points=\"114.16,-79.68 104.16,-76.19 109.8,-85.16 114.16,-79.68\"/>\n",
       "<text text-anchor=\"middle\" x=\"124.48\" y=\"-102.19\" font-family=\"Times New Roman,serif\" font-size=\"14.00\">yes</text>\n",
       "</g>\n",
       "<!-- 5 -->\n",
       "<g id=\"node5\" class=\"node\">\n",
       "<title>5</title>\n",
       "<polygon fill=\"none\" stroke=\"black\" points=\"244,-72 137,-72 137,-4 244,-4 244,-72\"/>\n",
       "<polygon fill=\"none\" stroke=\"black\" points=\"248,-76 133,-76 133,0 248,0 248,-76\"/>\n",
       "<text text-anchor=\"middle\" x=\"190.5\" y=\"-56.8\" font-family=\"Times New Roman,serif\" font-size=\"14.00\">predicted_y = 1</text>\n",
       "<text text-anchor=\"middle\" x=\"190.5\" y=\"-41.8\" font-family=\"Times New Roman,serif\" font-size=\"14.00\">entropy : 0.8281</text>\n",
       "<text text-anchor=\"middle\" x=\"190.5\" y=\"-26.8\" font-family=\"Times New Roman,serif\" font-size=\"14.00\">samples : 23</text>\n",
       "<text text-anchor=\"middle\" x=\"190.5\" y=\"-11.8\" font-family=\"Times New Roman,serif\" font-size=\"14.00\">value : [6, 17]</text>\n",
       "</g>\n",
       "<!-- 3&#45;&gt;5 -->\n",
       "<g id=\"edge4\" class=\"edge\">\n",
       "<title>3&#45;&gt;5</title>\n",
       "<path fill=\"none\" stroke=\"black\" d=\"M190.5,-111.75C190.5,-103.72 190.5,-94.99 190.5,-86.45\"/>\n",
       "<polygon fill=\"black\" stroke=\"black\" points=\"194,-86.19 190.5,-76.19 187,-86.19 194,-86.19\"/>\n",
       "<text text-anchor=\"middle\" x=\"198.95\" y=\"-90.61\" font-family=\"Times New Roman,serif\" font-size=\"14.00\"> no</text>\n",
       "</g>\n",
       "<!-- 7 -->\n",
       "<g id=\"node7\" class=\"node\">\n",
       "<title>7</title>\n",
       "<polygon fill=\"none\" stroke=\"black\" points=\"377,-72 270,-72 270,-4 377,-4 377,-72\"/>\n",
       "<polygon fill=\"none\" stroke=\"black\" points=\"381,-76 266,-76 266,0 381,0 381,-76\"/>\n",
       "<text text-anchor=\"middle\" x=\"323.5\" y=\"-56.8\" font-family=\"Times New Roman,serif\" font-size=\"14.00\">predicted_y = 0</text>\n",
       "<text text-anchor=\"middle\" x=\"323.5\" y=\"-41.8\" font-family=\"Times New Roman,serif\" font-size=\"14.00\">entropy : 0.1262</text>\n",
       "<text text-anchor=\"middle\" x=\"323.5\" y=\"-26.8\" font-family=\"Times New Roman,serif\" font-size=\"14.00\">samples : 173</text>\n",
       "<text text-anchor=\"middle\" x=\"323.5\" y=\"-11.8\" font-family=\"Times New Roman,serif\" font-size=\"14.00\">value : [170, 3]</text>\n",
       "</g>\n",
       "<!-- 6&#45;&gt;7 -->\n",
       "<g id=\"edge6\" class=\"edge\">\n",
       "<title>6&#45;&gt;7</title>\n",
       "<path fill=\"none\" stroke=\"black\" d=\"M386.64,-111.75C378.99,-102.93 370.59,-93.25 362.49,-83.92\"/>\n",
       "<polygon fill=\"black\" stroke=\"black\" points=\"364.98,-81.45 355.78,-76.19 359.69,-86.04 364.98,-81.45\"/>\n",
       "<text text-anchor=\"middle\" x=\"363.81\" y=\"-97.87\" font-family=\"Times New Roman,serif\" font-size=\"14.00\">yes</text>\n",
       "</g>\n",
       "<!-- 8 -->\n",
       "<g id=\"node8\" class=\"node\">\n",
       "<title>8</title>\n",
       "<polygon fill=\"none\" stroke=\"black\" points=\"510,-72 403,-72 403,-4 510,-4 510,-72\"/>\n",
       "<polygon fill=\"none\" stroke=\"black\" points=\"514,-76 399,-76 399,0 514,0 514,-76\"/>\n",
       "<text text-anchor=\"middle\" x=\"456.5\" y=\"-56.8\" font-family=\"Times New Roman,serif\" font-size=\"14.00\">predicted_y = 0</text>\n",
       "<text text-anchor=\"middle\" x=\"456.5\" y=\"-41.8\" font-family=\"Times New Roman,serif\" font-size=\"14.00\">entropy : 0.6292</text>\n",
       "<text text-anchor=\"middle\" x=\"456.5\" y=\"-26.8\" font-family=\"Times New Roman,serif\" font-size=\"14.00\">samples : 38</text>\n",
       "<text text-anchor=\"middle\" x=\"456.5\" y=\"-11.8\" font-family=\"Times New Roman,serif\" font-size=\"14.00\">value : [32, 6]</text>\n",
       "</g>\n",
       "<!-- 6&#45;&gt;8 -->\n",
       "<g id=\"edge7\" class=\"edge\">\n",
       "<title>6&#45;&gt;8</title>\n",
       "<path fill=\"none\" stroke=\"black\" d=\"M428.36,-111.75C431.57,-103.46 435.07,-94.41 438.47,-85.6\"/>\n",
       "<polygon fill=\"black\" stroke=\"black\" points=\"441.77,-86.78 442.12,-76.19 435.24,-84.25 441.77,-86.78\"/>\n",
       "<text text-anchor=\"middle\" x=\"443.46\" y=\"-92.44\" font-family=\"Times New Roman,serif\" font-size=\"14.00\"> no</text>\n",
       "</g>\n",
       "<!-- 10 -->\n",
       "<g id=\"node10\" class=\"node\">\n",
       "<title>10</title>\n",
       "<polygon fill=\"none\" stroke=\"black\" points=\"684,-180 577,-180 577,-112 684,-112 684,-180\"/>\n",
       "<text text-anchor=\"middle\" x=\"630.5\" y=\"-164.8\" font-family=\"Times New Roman,serif\" font-size=\"14.00\">Sex == F</text>\n",
       "<text text-anchor=\"middle\" x=\"630.5\" y=\"-149.8\" font-family=\"Times New Roman,serif\" font-size=\"14.00\">entropy : 0.5521</text>\n",
       "<text text-anchor=\"middle\" x=\"630.5\" y=\"-134.8\" font-family=\"Times New Roman,serif\" font-size=\"14.00\">samples : 203</text>\n",
       "<text text-anchor=\"middle\" x=\"630.5\" y=\"-119.8\" font-family=\"Times New Roman,serif\" font-size=\"14.00\">value : [177, 26]</text>\n",
       "</g>\n",
       "<!-- 9&#45;&gt;10 -->\n",
       "<g id=\"edge9\" class=\"edge\">\n",
       "<title>9&#45;&gt;10</title>\n",
       "<path fill=\"none\" stroke=\"black\" d=\"M630.5,-215.88C630.5,-207.78 630.5,-198.98 630.5,-190.47\"/>\n",
       "<polygon fill=\"black\" stroke=\"black\" points=\"634,-190.3 630.5,-180.3 627,-190.3 634,-190.3\"/>\n",
       "<text text-anchor=\"middle\" x=\"619.93\" y=\"-189.53\" font-family=\"Times New Roman,serif\" font-size=\"14.00\">yes</text>\n",
       "</g>\n",
       "<!-- 13 -->\n",
       "<g id=\"node13\" class=\"node\">\n",
       "<title>13</title>\n",
       "<polygon fill=\"none\" stroke=\"black\" points=\"909,-180 802,-180 802,-112 909,-112 909,-180\"/>\n",
       "<text text-anchor=\"middle\" x=\"855.5\" y=\"-164.8\" font-family=\"Times New Roman,serif\" font-size=\"14.00\">Sex == F</text>\n",
       "<text text-anchor=\"middle\" x=\"855.5\" y=\"-149.8\" font-family=\"Times New Roman,serif\" font-size=\"14.00\">entropy : 0.9968</text>\n",
       "<text text-anchor=\"middle\" x=\"855.5\" y=\"-134.8\" font-family=\"Times New Roman,serif\" font-size=\"14.00\">samples : 105</text>\n",
       "<text text-anchor=\"middle\" x=\"855.5\" y=\"-119.8\" font-family=\"Times New Roman,serif\" font-size=\"14.00\">value : [56, 49]</text>\n",
       "</g>\n",
       "<!-- 9&#45;&gt;13 -->\n",
       "<g id=\"edge12\" class=\"edge\">\n",
       "<title>9&#45;&gt;13</title>\n",
       "<path fill=\"none\" stroke=\"black\" d=\"M703.55,-215.88C732.26,-202.87 764.89,-188.08 792.53,-175.55\"/>\n",
       "<polygon fill=\"black\" stroke=\"black\" points=\"794.04,-178.71 801.7,-171.39 791.15,-172.33 794.04,-178.71\"/>\n",
       "<text text-anchor=\"middle\" x=\"788.68\" y=\"-182.87\" font-family=\"Times New Roman,serif\" font-size=\"14.00\"> no</text>\n",
       "</g>\n",
       "<!-- 11 -->\n",
       "<g id=\"node11\" class=\"node\">\n",
       "<title>11</title>\n",
       "<polygon fill=\"none\" stroke=\"black\" points=\"643,-72 536,-72 536,-4 643,-4 643,-72\"/>\n",
       "<polygon fill=\"none\" stroke=\"black\" points=\"647,-76 532,-76 532,0 647,0 647,-76\"/>\n",
       "<text text-anchor=\"middle\" x=\"589.5\" y=\"-56.8\" font-family=\"Times New Roman,serif\" font-size=\"14.00\">predicted_y = 1</text>\n",
       "<text text-anchor=\"middle\" x=\"589.5\" y=\"-41.8\" font-family=\"Times New Roman,serif\" font-size=\"14.00\">entropy : 0.9367</text>\n",
       "<text text-anchor=\"middle\" x=\"589.5\" y=\"-26.8\" font-family=\"Times New Roman,serif\" font-size=\"14.00\">samples : 34</text>\n",
       "<text text-anchor=\"middle\" x=\"589.5\" y=\"-11.8\" font-family=\"Times New Roman,serif\" font-size=\"14.00\">value : [12, 22]</text>\n",
       "</g>\n",
       "<!-- 10&#45;&gt;11 -->\n",
       "<g id=\"edge10\" class=\"edge\">\n",
       "<title>10&#45;&gt;11</title>\n",
       "<path fill=\"none\" stroke=\"black\" d=\"M617.64,-111.75C614.43,-103.46 610.93,-94.41 607.53,-85.6\"/>\n",
       "<polygon fill=\"black\" stroke=\"black\" points=\"610.76,-84.25 603.88,-76.19 604.23,-86.78 610.76,-84.25\"/>\n",
       "<text text-anchor=\"middle\" x=\"599.61\" y=\"-90.73\" font-family=\"Times New Roman,serif\" font-size=\"14.00\">yes</text>\n",
       "</g>\n",
       "<!-- 12 -->\n",
       "<g id=\"node12\" class=\"node\">\n",
       "<title>12</title>\n",
       "<polygon fill=\"none\" stroke=\"black\" points=\"776,-72 669,-72 669,-4 776,-4 776,-72\"/>\n",
       "<polygon fill=\"none\" stroke=\"black\" points=\"780,-76 665,-76 665,0 780,0 780,-76\"/>\n",
       "<text text-anchor=\"middle\" x=\"722.5\" y=\"-56.8\" font-family=\"Times New Roman,serif\" font-size=\"14.00\">predicted_y = 1</text>\n",
       "<text text-anchor=\"middle\" x=\"722.5\" y=\"-41.8\" font-family=\"Times New Roman,serif\" font-size=\"14.00\">entropy : 0.4121</text>\n",
       "<text text-anchor=\"middle\" x=\"722.5\" y=\"-26.8\" font-family=\"Times New Roman,serif\" font-size=\"14.00\">samples : 169</text>\n",
       "<text text-anchor=\"middle\" x=\"722.5\" y=\"-11.8\" font-family=\"Times New Roman,serif\" font-size=\"14.00\">value : [14, 155]</text>\n",
       "</g>\n",
       "<!-- 10&#45;&gt;12 -->\n",
       "<g id=\"edge11\" class=\"edge\">\n",
       "<title>10&#45;&gt;12</title>\n",
       "<path fill=\"none\" stroke=\"black\" d=\"M659.36,-111.75C667.01,-102.93 675.41,-93.25 683.51,-83.92\"/>\n",
       "<polygon fill=\"black\" stroke=\"black\" points=\"686.31,-86.04 690.22,-76.19 681.02,-81.45 686.31,-86.04\"/>\n",
       "<text text-anchor=\"middle\" x=\"684.73\" y=\"-91.72\" font-family=\"Times New Roman,serif\" font-size=\"14.00\"> no</text>\n",
       "</g>\n",
       "<!-- 14 -->\n",
       "<g id=\"node14\" class=\"node\">\n",
       "<title>14</title>\n",
       "<polygon fill=\"none\" stroke=\"black\" points=\"909,-72 802,-72 802,-4 909,-4 909,-72\"/>\n",
       "<polygon fill=\"none\" stroke=\"black\" points=\"913,-76 798,-76 798,0 913,0 913,-76\"/>\n",
       "<text text-anchor=\"middle\" x=\"855.5\" y=\"-56.8\" font-family=\"Times New Roman,serif\" font-size=\"14.00\">predicted_y = 0</text>\n",
       "<text text-anchor=\"middle\" x=\"855.5\" y=\"-41.8\" font-family=\"Times New Roman,serif\" font-size=\"14.00\">entropy : 0.7496</text>\n",
       "<text text-anchor=\"middle\" x=\"855.5\" y=\"-26.8\" font-family=\"Times New Roman,serif\" font-size=\"14.00\">samples : 28</text>\n",
       "<text text-anchor=\"middle\" x=\"855.5\" y=\"-11.8\" font-family=\"Times New Roman,serif\" font-size=\"14.00\">value : [22, 6]</text>\n",
       "</g>\n",
       "<!-- 13&#45;&gt;14 -->\n",
       "<g id=\"edge13\" class=\"edge\">\n",
       "<title>13&#45;&gt;14</title>\n",
       "<path fill=\"none\" stroke=\"black\" d=\"M855.5,-111.75C855.5,-103.72 855.5,-94.99 855.5,-86.45\"/>\n",
       "<polygon fill=\"black\" stroke=\"black\" points=\"859,-86.19 855.5,-76.19 852,-86.19 859,-86.19\"/>\n",
       "<text text-anchor=\"middle\" x=\"844.93\" y=\"-85.39\" font-family=\"Times New Roman,serif\" font-size=\"14.00\">yes</text>\n",
       "</g>\n",
       "<!-- 15 -->\n",
       "<g id=\"node15\" class=\"node\">\n",
       "<title>15</title>\n",
       "<polygon fill=\"none\" stroke=\"black\" points=\"1042,-72 935,-72 935,-4 1042,-4 1042,-72\"/>\n",
       "<polygon fill=\"none\" stroke=\"black\" points=\"1046,-76 931,-76 931,0 1046,0 1046,-76\"/>\n",
       "<text text-anchor=\"middle\" x=\"988.5\" y=\"-56.8\" font-family=\"Times New Roman,serif\" font-size=\"14.00\">predicted_y = 1</text>\n",
       "<text text-anchor=\"middle\" x=\"988.5\" y=\"-41.8\" font-family=\"Times New Roman,serif\" font-size=\"14.00\">entropy : 0.9346</text>\n",
       "<text text-anchor=\"middle\" x=\"988.5\" y=\"-26.8\" font-family=\"Times New Roman,serif\" font-size=\"14.00\">samples : 77</text>\n",
       "<text text-anchor=\"middle\" x=\"988.5\" y=\"-11.8\" font-family=\"Times New Roman,serif\" font-size=\"14.00\">value : [27, 50]</text>\n",
       "</g>\n",
       "<!-- 13&#45;&gt;15 -->\n",
       "<g id=\"edge14\" class=\"edge\">\n",
       "<title>13&#45;&gt;15</title>\n",
       "<path fill=\"none\" stroke=\"black\" d=\"M897.22,-111.75C908.84,-102.49 921.64,-92.28 933.89,-82.52\"/>\n",
       "<polygon fill=\"black\" stroke=\"black\" points=\"936.2,-85.16 941.84,-76.19 931.84,-79.68 936.2,-85.16\"/>\n",
       "<text text-anchor=\"middle\" x=\"932.93\" y=\"-90.4\" font-family=\"Times New Roman,serif\" font-size=\"14.00\"> no</text>\n",
       "</g>\n",
       "</g>\n",
       "</svg>\n"
      ],
      "text/plain": [
       "<graphviz.graphs.Digraph at 0x1513d767280>"
      ]
     },
     "execution_count": 27,
     "metadata": {},
     "output_type": "execute_result"
    }
   ],
   "source": [
    "# images\n",
    "visualize_tree(clf.root)"
   ]
  },
  {
   "cell_type": "markdown",
   "id": "61af32f2",
   "metadata": {},
   "source": [
    "### * homogeneity & coverage 구하기"
   ]
  },
  {
   "cell_type": "code",
   "execution_count": 40,
   "id": "e1b9f135",
   "metadata": {},
   "outputs": [
    {
     "name": "stdout",
     "output_type": "stream",
     "text": [
      "0.5227882037533512 0.4772117962466488\n"
     ]
    }
   ],
   "source": [
    "# 사전확률\n",
    "total = 746\n",
    "p0 = (df.loc[df['HeartDisease'] == 0, ].shape[0])/total\n",
    "p1 = (df.loc[df['HeartDisease'] == 1, ].shape[0])/total\n",
    "print(p0, p1)"
   ]
  },
  {
   "cell_type": "code",
   "execution_count": 41,
   "id": "afa7bb57",
   "metadata": {},
   "outputs": [],
   "source": [
    "# y=1\n",
    "# coverage\n",
    "r1 = df.loc[(df['ST_Slope'] != 'Up') & (df['ChestPainType'] != 'ASY') & (df['Sex'] != 'F')]\n",
    "r2 = df.loc[(df['ST_Slope'] != 'Up') & (df['ChestPainType'] == 'ASY') & (df['Sex'] != 'F')]\n",
    "r3 = df.loc[(df['ST_Slope'] != 'Up') & (df['ChestPainType'] == 'ASY') & (df['Sex'] == 'F')]\n",
    "r4 = df.loc[(df['ST_Slope'] == 'Up') & (df['ChestPainType'] == 'ASY') & (df['ExerciseAngina'] != 'N')]\n",
    "\n",
    "c1 = r1.shape[0]/total\n",
    "c2 = r2.shape[0]/total\n",
    "c3 = r3.shape[0]/total\n",
    "c4 = r4.shape[0]/total\n",
    "c = [c1, c2, c3, c4]"
   ]
  },
  {
   "cell_type": "code",
   "execution_count": 42,
   "id": "d5f63782",
   "metadata": {},
   "outputs": [],
   "source": [
    "# homo\n",
    "df_y1 = df[df['HeartDisease'] == 1]\n",
    "hr1 = df_y1.loc[(df['ST_Slope'] != 'Up') & (df['ChestPainType'] != 'ASY') & (df['Sex'] != 'F')]\n",
    "hr2 = df_y1.loc[(df['ST_Slope'] != 'Up') & (df['ChestPainType'] == 'ASY') & (df['Sex'] != 'F')]\n",
    "hr3 = df_y1.loc[(df['ST_Slope'] != 'Up') & (df['ChestPainType'] == 'ASY') & (df['Sex'] == 'F')]\n",
    "hr4 = df_y1.loc[(df['ST_Slope'] == 'Up') & (df['ChestPainType'] == 'ASY') & (df['ExerciseAngina'] != 'N')]\n",
    "h1 = hr1.shape[0]/r1.shape[0]\n",
    "h2 = hr2.shape[0]/r2.shape[0]\n",
    "h3 = hr3.shape[0]/r3.shape[0]\n",
    "h4 = hr4.shape[0]/r4.shape[0]\n",
    "h = [h1, h2, h3, h4]"
   ]
  },
  {
   "cell_type": "code",
   "execution_count": 43,
   "id": "57e4162c",
   "metadata": {},
   "outputs": [],
   "source": [
    "# WA\n",
    "wa = []\n",
    "for i in range(4):\n",
    "    wa.append(c[i]*(h[i]-p1))"
   ]
  },
  {
   "cell_type": "code",
   "execution_count": 44,
   "id": "dd63b20d",
   "metadata": {},
   "outputs": [
    {
     "name": "stdout",
     "output_type": "stream",
     "text": [
      "[0.1260053619302949, 0.30563002680965146, 0.057640750670241284, 0.03753351206434316]\n",
      "[0.6702127659574468, 0.9254385964912281, 0.6744186046511628, 0.7142857142857143]\n",
      "[0.024319157041306994, 0.13699156897555506, 0.011367148473718634, 0.008898216762860367]\n"
     ]
    }
   ],
   "source": [
    "print(c)\n",
    "print(h)\n",
    "print(wa)"
   ]
  },
  {
   "cell_type": "code",
   "execution_count": 45,
   "id": "33d64492",
   "metadata": {},
   "outputs": [],
   "source": [
    "# y=0\n",
    "# coverage\n",
    "r1 = df.loc[(df['ST_Slope'] != 'Up') & (df['ChestPainType'] != 'ASY') & (df['Sex'] == 'F')]\n",
    "r2 = df.loc[(df['ST_Slope'] == 'Up') & (df['ChestPainType'] != 'ASY') & (df['Age'] > 56)]\n",
    "r3 = df.loc[(df['ST_Slope'] == 'Up') & (df['ChestPainType'] != 'ASY') & (df['Age'] < 56)]\n",
    "r4 = df.loc[(df['ST_Slope'] == 'Up') & (df['ChestPainType'] == 'ASY') & (df['ExerciseAngina'] == 'N')]\n",
    "\n",
    "c1 = r1.shape[0]/total\n",
    "c2 = r2.shape[0]/total\n",
    "c3 = r3.shape[0]/total\n",
    "c4 = r4.shape[0]/total\n",
    "c = [c1, c2, c3, c4]"
   ]
  },
  {
   "cell_type": "code",
   "execution_count": 46,
   "id": "ab89a8ec",
   "metadata": {},
   "outputs": [],
   "source": [
    "# homo\n",
    "df_y0 = df[df['HeartDisease'] == 0]\n",
    "hr1 = df_y0.loc[(df['ST_Slope'] != 'Up') & (df['ChestPainType'] != 'ASY') & (df['Sex'] == 'F')]\n",
    "hr2 = df_y0.loc[(df['ST_Slope'] == 'Up') & (df['ChestPainType'] != 'ASY') & (df['Age'] > 56)]\n",
    "hr3 = df_y0.loc[(df['ST_Slope'] == 'Up') & (df['ChestPainType'] != 'ASY') & (df['Age'] < 56)]\n",
    "hr4 = df_y0.loc[(df['ST_Slope'] == 'Up') & (df['ChestPainType'] == 'ASY') & (df['ExerciseAngina'] == 'N')]\n",
    "\n",
    "h1 = hr1.shape[0]/r1.shape[0]\n",
    "h2 = hr2.shape[0]/r2.shape[0]\n",
    "h3 = hr3.shape[0]/r3.shape[0]\n",
    "h4 = hr4.shape[0]/r4.shape[0]\n",
    "h = [h1, h2, h3, h4]"
   ]
  },
  {
   "cell_type": "code",
   "execution_count": 47,
   "id": "2fd01796",
   "metadata": {},
   "outputs": [],
   "source": [
    "# WA\n",
    "wa = []\n",
    "for i in range(4):\n",
    "    wa.append(c[i]*(h[i]-p1))"
   ]
  },
  {
   "cell_type": "code",
   "execution_count": 48,
   "id": "0c26f095",
   "metadata": {},
   "outputs": [
    {
     "name": "stdout",
     "output_type": "stream",
     "text": [
      "[0.04289544235924933, 0.06702412868632708, 0.2587131367292225, 0.09517426273458444]\n",
      "[0.75, 0.84, 0.9844559585492227, 0.8028169014084507]\n",
      "[0.01170137067038504, 0.02431556325424606, 0.13123072831688576, 0.03098922582639134]\n"
     ]
    }
   ],
   "source": [
    "print(c)\n",
    "print(h)\n",
    "print(wa)"
   ]
  },
  {
   "cell_type": "code",
   "execution_count": null,
   "id": "4262cc75",
   "metadata": {},
   "outputs": [],
   "source": []
  },
  {
   "cell_type": "markdown",
   "id": "38484298",
   "metadata": {},
   "source": [
    "### 3-1. CART (사용X)\n",
    "* label encoding 적용한 데이터 사용"
   ]
  },
  {
   "cell_type": "code",
   "execution_count": 11,
   "id": "abf93253",
   "metadata": {},
   "outputs": [],
   "source": [
    "# randomly split into a training and test dataset\n",
    "# from sklearn.model_selection import train_test_split\n",
    "X = df1.drop(columns='HeartDisease')\n",
    "y = df1['HeartDisease']\n",
    "X_train, X_test, y_train, y_test = train_test_split(X, y, test_size=0.2, random_state=42)"
   ]
  },
  {
   "cell_type": "code",
   "execution_count": 22,
   "id": "bdafa493",
   "metadata": {},
   "outputs": [],
   "source": [
    "# from sklearn.tree import DecisionTreeClassifier"
   ]
  },
  {
   "cell_type": "code",
   "execution_count": 38,
   "id": "3c5820b5",
   "metadata": {},
   "outputs": [
    {
     "name": "stdout",
     "output_type": "stream",
     "text": [
      "train_score : 0.8540268456375839 \n",
      "test_score : 0.9066666666666666 \n",
      "0.8176644295302014\n",
      "{'criterion': 'gini', 'max_depth': 3, 'min_samples_split': 2}\n"
     ]
    }
   ],
   "source": [
    "# from sklearn.model_selection import GridSearchCV \n",
    "param={\"criterion\" : ['gini', 'entropy'], \n",
    "       \"max_depth\":[2, 3, 4, 5, 6, None], \n",
    "       \"min_samples_split\":[2, 3, 4, 5, 6, 7, 8, 9, 10] } \n",
    "\n",
    "method1 = DecisionTreeClassifier() \n",
    "gs = GridSearchCV(method1, param_grid=param, cv=3, n_jobs=-1) \n",
    "\n",
    "gs.fit(X, y)\n",
    "result1 = gs.best_estimator_\n",
    "print(\"train_score : {} \".format(result1.score(X_train, y_train))) \n",
    "print(\"test_score : {} \".format(result1.score(X_test, y_test))) \n",
    "print(gs.best_score_) \n",
    "print(gs.best_params_)"
   ]
  },
  {
   "cell_type": "code",
   "execution_count": 42,
   "id": "82b88542",
   "metadata": {},
   "outputs": [
    {
     "data": {
      "text/plain": [
       "DecisionTreeClassifier(max_depth=3)"
      ]
     },
     "execution_count": 42,
     "metadata": {},
     "output_type": "execute_result"
    }
   ],
   "source": [
    "# fitting\n",
    "clf_tree = DecisionTreeClassifier(criterion = 'gini', max_depth=3)\n",
    "clf_tree.fit(X_train,y_train)"
   ]
  },
  {
   "cell_type": "code",
   "execution_count": 43,
   "id": "3b56042b",
   "metadata": {},
   "outputs": [
    {
     "data": {
      "text/plain": [
       "array([0, 0, 0, 0, 1, 0, 0, 0, 1, 0, 0, 1, 1, 1, 1, 0, 1, 1, 1, 1, 1, 1,\n",
       "       1, 1, 0, 1, 0, 0, 1, 0, 0, 1, 0, 1, 1, 0, 1, 1, 0, 0, 1, 0, 0, 0,\n",
       "       0, 0, 0, 0, 0, 0, 0, 1, 1, 0, 1, 0, 0, 1, 1, 0, 1, 1, 1, 0, 1, 0,\n",
       "       1, 1, 1, 1, 0, 0, 0, 1, 1, 1, 1, 0, 1, 1, 0, 1, 1, 1, 1, 0, 0, 1,\n",
       "       0, 0, 0, 1, 0, 0, 0, 0, 1, 1, 0, 0, 0, 1, 1, 1, 1, 1, 0, 0, 1, 0,\n",
       "       1, 0, 0, 1, 1, 1, 1, 0, 1, 0, 0, 1, 1, 0, 1, 0, 0, 0, 1, 0, 0, 0,\n",
       "       0, 1, 0, 1, 0, 0, 0, 1, 1, 1, 1, 0, 0, 0, 0, 0, 1, 1], dtype=int64)"
      ]
     },
     "execution_count": 43,
     "metadata": {},
     "output_type": "execute_result"
    }
   ],
   "source": [
    "# predicted class\n",
    "pred_y = clf_tree.predict(X_test)\n",
    "pred_y"
   ]
  },
  {
   "cell_type": "code",
   "execution_count": 77,
   "id": "f73b10e3",
   "metadata": {},
   "outputs": [
    {
     "name": "stdout",
     "output_type": "stream",
     "text": [
      "train accuracy: 0.8557046979865772\n",
      "test accuracy: 0.8533333333333334\n"
     ]
    },
    {
     "data": {
      "text/plain": [
       "<sklearn.metrics._plot.confusion_matrix.ConfusionMatrixDisplay at 0x217a55a0250>"
      ]
     },
     "execution_count": 77,
     "metadata": {},
     "output_type": "execute_result"
    },
    {
     "data": {
      "image/png": "[encoded data removed]",
      "text/plain": [
       "<Figure size 432x288 with 2 Axes>"
      ]
     },
     "metadata": {
      "needs_background": "light"
     },
     "output_type": "display_data"
    }
   ],
   "source": [
    "# accuracy score\n",
    "train_acc = clf_tree.score(X_train,y_train)\n",
    "test_acc = clf_tree.score(X_test,y_test)\n",
    "print('train accuracy:', train_acc)\n",
    "print('test accuracy:', test_acc)\n",
    "plot_confusion_matrix(gbm, X_test, y_test, cmap = plt.cm.Blues, values_format = 'd')"
   ]
  },
  {
   "cell_type": "code",
   "execution_count": 46,
   "id": "f3bbf78c",
   "metadata": {},
   "outputs": [
    {
     "data": {
      "image/png": "[encoded data removed]",
      "text/plain": [
       "<Figure size 1800x1440 with 1 Axes>"
      ]
     },
     "metadata": {
      "needs_background": "light"
     },
     "output_type": "display_data"
    }
   ],
   "source": [
    "plt.figure(figsize=(25,20))\n",
    "tree.plot_tree(clf_tree,\n",
    "               feature_names=X.columns, class_names=True,\n",
    "               filled=True, rounded=True,) \n",
    "plt.show()"
   ]
  },
  {
   "cell_type": "code",
   "execution_count": null,
   "id": "1d5756b4",
   "metadata": {},
   "outputs": [],
   "source": []
  },
  {
   "cell_type": "markdown",
   "id": "c7077454",
   "metadata": {},
   "source": [
    "### 3-2.. Random Forest\n",
    "* label encoding 데이터 사용"
   ]
  },
  {
   "cell_type": "code",
   "execution_count": 49,
   "id": "5676335b",
   "metadata": {},
   "outputs": [],
   "source": [
    "X = df1.drop(columns='HeartDisease')\n",
    "y = df1['HeartDisease']\n",
    "X_train, X_test, y_train, y_test = train_test_split(X, y, test_size=0.2, random_state=42)"
   ]
  },
  {
   "cell_type": "code",
   "execution_count": 50,
   "id": "59f98703",
   "metadata": {},
   "outputs": [
    {
     "name": "stdout",
     "output_type": "stream",
     "text": [
      "train_score : 0.8422818791946308 \n",
      "test_score : 0.8933333333333333 \n",
      "0.857812972319385\n",
      "{'max_depth': 2, 'min_samples_leaf': 18, 'min_samples_split': 15, 'n_estimators': 10}\n"
     ]
    }
   ],
   "source": [
    "param={\"n_estimators\" : [10, 100], \n",
    "       \"max_depth\":[2, 3, 4, 5, 6, 7, 8],\n",
    "       \"min_samples_leaf\" : [8, 12, 18],\n",
    "       \"min_samples_split\":range(2, 21) } \n",
    "\n",
    "method2 = RandomForestClassifier() \n",
    "gs = GridSearchCV(method2, param_grid=param, cv=3, n_jobs=-1) \n",
    "\n",
    "gs.fit(X, y)\n",
    "result2 = gs.best_estimator_\n",
    "print(\"train_score : {} \".format(result2.score(X_train, y_train))) \n",
    "print(\"test_score : {} \".format(result2.score(X_test, y_test))) \n",
    "print(gs.best_score_) \n",
    "print(gs.best_params_)"
   ]
  },
  {
   "cell_type": "code",
   "execution_count": 51,
   "id": "569c6c70",
   "metadata": {},
   "outputs": [
    {
     "name": "stderr",
     "output_type": "stream",
     "text": [
      "C:\\ProgramData\\Anaconda3\\lib\\site-packages\\sklearn\\ensemble\\_forest.py:541: UserWarning: Some inputs do not have OOB scores. This probably means too few trees were used to compute any reliable oob estimates.\n",
      "  warn(\"Some inputs do not have OOB scores. \"\n",
      "C:\\ProgramData\\Anaconda3\\lib\\site-packages\\sklearn\\ensemble\\_forest.py:545: RuntimeWarning: invalid value encountered in true_divide\n",
      "  decision = (predictions[k] /\n"
     ]
    },
    {
     "data": {
      "text/plain": [
       "RandomForestClassifier(criterion='entropy', max_depth=3, n_estimators=10,\n",
       "                       oob_score=True, random_state=1424)"
      ]
     },
     "execution_count": 51,
     "metadata": {},
     "output_type": "execute_result"
    }
   ],
   "source": [
    "# fitting\n",
    "# from sklearn.ensemble import RandomForestClassifier\n",
    "\n",
    "rfc = RandomForestClassifier(n_estimators=10, oob_score=True,\n",
    "                            criterion='entropy', max_depth=3, random_state = 1424)\n",
    "rfc.fit(X_train, y_train)"
   ]
  },
  {
   "cell_type": "code",
   "execution_count": 52,
   "id": "d2334f99",
   "metadata": {},
   "outputs": [
    {
     "data": {
      "text/plain": [
       "array([0, 0, 0, 0, 1, 0, 0, 0, 1, 0, 0, 1, 1, 1, 1, 0, 1, 1, 1, 1, 1, 1,\n",
       "       1, 1, 0, 1, 0, 0, 1, 0, 1, 1, 1, 1, 1, 0, 1, 1, 0, 0, 1, 1, 0, 0,\n",
       "       0, 0, 0, 0, 0, 0, 0, 1, 1, 0, 1, 0, 0, 1, 1, 0, 1, 1, 1, 0, 1, 0,\n",
       "       1, 1, 1, 1, 0, 0, 0, 1, 1, 1, 1, 0, 1, 1, 0, 1, 1, 1, 1, 0, 0, 1,\n",
       "       0, 1, 1, 1, 0, 0, 0, 0, 0, 1, 0, 0, 0, 1, 1, 1, 1, 1, 0, 0, 1, 0,\n",
       "       1, 0, 0, 1, 1, 1, 1, 0, 1, 0, 0, 1, 1, 0, 1, 0, 0, 0, 1, 0, 1, 0,\n",
       "       0, 1, 0, 1, 0, 0, 0, 1, 1, 1, 1, 0, 0, 0, 0, 0, 1, 1], dtype=int64)"
      ]
     },
     "execution_count": 52,
     "metadata": {},
     "output_type": "execute_result"
    }
   ],
   "source": [
    "# predicted class\n",
    "pred_y = rfc.predict(X_test)\n",
    "pred_y"
   ]
  },
  {
   "cell_type": "code",
   "execution_count": 53,
   "id": "1a6dca27",
   "metadata": {
    "scrolled": false
   },
   "outputs": [
    {
     "name": "stdout",
     "output_type": "stream",
     "text": [
      "train accuracy: 0.8624161073825504\n",
      "test accuracy: 0.9\n"
     ]
    },
    {
     "data": {
      "text/plain": [
       "<sklearn.metrics._plot.confusion_matrix.ConfusionMatrixDisplay at 0x1a84032f430>"
      ]
     },
     "execution_count": 53,
     "metadata": {},
     "output_type": "execute_result"
    },
    {
     "data": {
      "image/png": "[encoded data removed]",
      "text/plain": [
       "<Figure size 432x288 with 2 Axes>"
      ]
     },
     "metadata": {
      "needs_background": "light"
     },
     "output_type": "display_data"
    }
   ],
   "source": [
    "# accuracy score\n",
    "train_acc = rfc.score(X_train,y_train)\n",
    "test_acc = rfc.score(X_test,y_test)\n",
    "print('train accuracy:', train_acc)\n",
    "print('test accuracy:', test_acc)\n",
    "plot_confusion_matrix(rfc, X_test, y_test, cmap = plt.cm.Blues, values_format = 'd')"
   ]
  },
  {
   "cell_type": "code",
   "execution_count": 54,
   "id": "769aa5dd",
   "metadata": {},
   "outputs": [
    {
     "data": {
      "image/png": "[encoded data removed]",
      "text/plain": [
       "<Figure size 432x288 with 1 Axes>"
      ]
     },
     "metadata": {
      "needs_background": "light"
     },
     "output_type": "display_data"
    }
   ],
   "source": [
    "importances = rfc.feature_importances_\n",
    "indices = np.argsort(importances)[::-1]\n",
    "\n",
    "# print(\"Feature ranking:\")\n",
    "# for f in range(X.shape[1]):\n",
    "#     print(\"{}. feature {} ({:.3f})\".format(f + 1, X.columns[indices][f], importances[indices[f]]))\n",
    "    \n",
    "    \n",
    "plt.figure()\n",
    "plt.title(\"Feature importances\")\n",
    "plt.barh(range(X.shape[1]), importances[indices], align = 'center')\n",
    "plt.yticks(range(X.shape[1]), X.columns[indices])\n",
    "plt.show()"
   ]
  },
  {
   "cell_type": "markdown",
   "id": "1ef2c18a",
   "metadata": {},
   "source": [
    "### 3-3. Gradient Boost\n",
    "* label encoding 데이터 사용"
   ]
  },
  {
   "cell_type": "code",
   "execution_count": 65,
   "id": "fdecad32",
   "metadata": {},
   "outputs": [],
   "source": [
    "# from sklearn.ensemble import GradientBoostingClassifier\n",
    "# from sklearn.metrics import plot_confusion_matrix"
   ]
  },
  {
   "cell_type": "code",
   "execution_count": 47,
   "id": "191ef01a",
   "metadata": {},
   "outputs": [
    {
     "name": "stdout",
     "output_type": "stream",
     "text": [
      "train_score : 0.9093959731543624 \n",
      "test_score : 0.9466666666666667 \n",
      "0.852490607591657\n",
      "{'learning_rate': 0.04000000000000001, 'max_depth': 4, 'max_features': 1, 'n_estimators': 101}\n"
     ]
    }
   ],
   "source": [
    "method3 = GradientBoostingClassifier(random_state=42)\n",
    "\n",
    "# n_estimators: tree 갯수, max_features: \n",
    "param= {'n_estimators': range(1, 500, 50), \n",
    "        'max_features': range(1, 10),\n",
    "        'max_depth': range(3, 5), \n",
    "        'learning_rate': np.linspace(0.01, 0.1, 10)}\n",
    "\n",
    "gs = GridSearchCV(method3, param_grid=param, cv=3, n_jobs=-1)\n",
    "\n",
    "gs.fit(X, y)\n",
    "result3 = gs.best_estimator_\n",
    "print(\"train_score : {} \".format(result3.score(X_train, y_train))) \n",
    "print(\"test_score : {} \".format(result3.score(X_test, y_test))) \n",
    "print(gs.best_score_) \n",
    "print(gs.best_params_)"
   ]
  },
  {
   "cell_type": "code",
   "execution_count": 55,
   "id": "5113fdd5",
   "metadata": {},
   "outputs": [
    {
     "data": {
      "text/plain": [
       "GradientBoostingClassifier(max_depth=4, n_estimators=101, random_state=1424)"
      ]
     },
     "execution_count": 55,
     "metadata": {},
     "output_type": "execute_result"
    }
   ],
   "source": [
    "gbm=GradientBoostingClassifier(max_depth = 4, n_estimators = 101, random_state = 1424)\n",
    "gbm.fit(X_train, y_train)"
   ]
  },
  {
   "cell_type": "code",
   "execution_count": 56,
   "id": "ce8231b6",
   "metadata": {},
   "outputs": [
    {
     "data": {
      "text/plain": [
       "array([0, 0, 0, 0, 1, 0, 0, 0, 0, 0, 0, 1, 1, 1, 1, 0, 1, 1, 1, 1, 1, 1,\n",
       "       1, 1, 0, 1, 0, 0, 0, 0, 1, 1, 1, 1, 1, 0, 1, 1, 0, 0, 1, 1, 0, 0,\n",
       "       0, 0, 0, 0, 0, 0, 0, 1, 1, 0, 1, 0, 0, 1, 1, 0, 1, 1, 0, 0, 1, 0,\n",
       "       1, 1, 1, 0, 0, 0, 0, 1, 1, 1, 1, 0, 1, 1, 0, 1, 1, 1, 1, 1, 0, 1,\n",
       "       0, 1, 1, 1, 0, 1, 0, 0, 1, 1, 0, 0, 1, 1, 1, 1, 1, 1, 0, 0, 1, 0,\n",
       "       1, 0, 0, 1, 1, 1, 1, 0, 1, 0, 0, 1, 1, 0, 1, 0, 0, 0, 1, 0, 1, 0,\n",
       "       0, 1, 0, 1, 0, 0, 0, 1, 1, 0, 1, 0, 0, 0, 0, 0, 1, 1], dtype=int64)"
      ]
     },
     "execution_count": 56,
     "metadata": {},
     "output_type": "execute_result"
    }
   ],
   "source": [
    "# predicted class\n",
    "pred_y = gbm.predict(X_test)\n",
    "pred_y"
   ]
  },
  {
   "cell_type": "code",
   "execution_count": 57,
   "id": "eb4e099f",
   "metadata": {},
   "outputs": [
    {
     "name": "stdout",
     "output_type": "stream",
     "text": [
      "train accuracy: 0.9916107382550335\n",
      "test accuracy: 0.8933333333333333\n"
     ]
    },
    {
     "data": {
      "text/plain": [
       "<sklearn.metrics._plot.confusion_matrix.ConfusionMatrixDisplay at 0x1a84045eaf0>"
      ]
     },
     "execution_count": 57,
     "metadata": {},
     "output_type": "execute_result"
    },
    {
     "data": {
      "image/png": "[encoded data removed]",
      "text/plain": [
       "<Figure size 432x288 with 2 Axes>"
      ]
     },
     "metadata": {
      "needs_background": "light"
     },
     "output_type": "display_data"
    }
   ],
   "source": [
    "# accuracy score\n",
    "train_acc = gbm.score(X_train,y_train)\n",
    "test_acc = gbm.score(X_test,y_test)\n",
    "print('train accuracy:', train_acc)\n",
    "print('test accuracy:', test_acc)\n",
    "\n",
    "plot_confusion_matrix(gbm, X_test, y_test, cmap = plt.cm.Blues, values_format = 'd')"
   ]
  },
  {
   "cell_type": "code",
   "execution_count": null,
   "id": "d4481500",
   "metadata": {},
   "outputs": [],
   "source": []
  },
  {
   "cell_type": "markdown",
   "id": "e0f2c494",
   "metadata": {},
   "source": [
    "### 3-4. KNN\n",
    "* tree를 기반으로 한 모델이 아니므로 onehotencding을 적용한 데이터를 사용한다.\n",
    "* 모든 변수를 포함한 모델과 중요한 변수 5개만 포함한 모델 비교"
   ]
  },
  {
   "cell_type": "code",
   "execution_count": 79,
   "id": "c7312f56",
   "metadata": {},
   "outputs": [],
   "source": [
    "# from sklearn.neighbors import KNeighborsClassifier"
   ]
  },
  {
   "cell_type": "code",
   "execution_count": 58,
   "id": "f0e13fe1",
   "metadata": {},
   "outputs": [],
   "source": [
    "X = df2.drop(columns='HeartDisease')\n",
    "y = df2['HeartDisease']\n",
    "X_train, X_test, y_train, y_test = train_test_split(X, y, test_size=0.2, random_state=42)"
   ]
  },
  {
   "cell_type": "code",
   "execution_count": null,
   "id": "f48d053b",
   "metadata": {},
   "outputs": [],
   "source": [
    "params = {'n_neighbors' : list(range(1, 31)),\n",
    "          'weights' : ['uniform', 'distance'],\n",
    "          'metric' : ['euclidean', 'manhattan', 'minkowski']\n",
    "         }\n",
    "                        \n",
    "method4 = KNeighborsClassifier()\n",
    "gs = GridSearchCV(method4, param_grid=params, cv=3, n_jobs=-1)\n",
    "gs.fit(X, y)\n",
    "\n",
    "result4 = gs.best_estimator_\n",
    "print(\"train_score : {} \".format(result4.score(X_train, y_train))) \n",
    "print(\"test_score : {} \".format(result4.score(X_test, y_test))) \n",
    "print(gs.best_score_) \n",
    "print(gs.best_params_)"
   ]
  },
  {
   "cell_type": "markdown",
   "id": "1067dc68",
   "metadata": {},
   "source": [
    "#### * RF feature importance 참고."
   ]
  },
  {
   "cell_type": "code",
   "execution_count": 60,
   "id": "51646490",
   "metadata": {},
   "outputs": [
    {
     "data": {
      "text/plain": [
       "KNeighborsClassifier(metric='manhattan', n_jobs=-1, n_neighbors=15,\n",
       "                     weights='distance')"
      ]
     },
     "execution_count": 60,
     "metadata": {},
     "output_type": "execute_result"
    }
   ],
   "source": [
    "# fitting(중요도 높은 변수 5개)\n",
    "knn_clf = KNeighborsClassifier(n_neighbors = 15, n_jobs = -1, weights = 'distance', metric = 'manhattan')\n",
    "knn_clf.fit(X_train[['ST_Slope_Up', 'ST_Slope_Flat', 'ST_Slope_Down', 'ExerciseAngina_Y', 'ExerciseAngina_N', 'ChestPainType_NAP', 'ChestPainType_ATA', 'ChestPainType_ASY', 'ChestPainType_TA', 'Oldpeak', 'Sex_M', 'Sex_F']], y_train)"
   ]
  },
  {
   "cell_type": "code",
   "execution_count": 61,
   "id": "6975da75",
   "metadata": {},
   "outputs": [],
   "source": [
    "# prediction\n",
    "pred = knn_clf.predict(X_test[['ST_Slope_Up', 'ST_Slope_Flat', 'ST_Slope_Down', 'ExerciseAngina_Y', 'ExerciseAngina_N', 'ChestPainType_NAP', 'ChestPainType_ATA', 'ChestPainType_ASY', 'ChestPainType_TA', 'Oldpeak', 'Sex_M', 'Sex_F']])"
   ]
  },
  {
   "cell_type": "code",
   "execution_count": 62,
   "id": "b4e281d2",
   "metadata": {
    "scrolled": true
   },
   "outputs": [
    {
     "name": "stdout",
     "output_type": "stream",
     "text": [
      "train accuracy: 0.9177852348993288\n",
      "test accuracy: 0.82\n"
     ]
    },
    {
     "data": {
      "text/plain": [
       "<sklearn.metrics._plot.confusion_matrix.ConfusionMatrixDisplay at 0x1a840454a90>"
      ]
     },
     "execution_count": 62,
     "metadata": {},
     "output_type": "execute_result"
    },
    {
     "data": {
      "image/png": "[encoded data removed]",
      "text/plain": [
       "<Figure size 432x288 with 2 Axes>"
      ]
     },
     "metadata": {
      "needs_background": "light"
     },
     "output_type": "display_data"
    }
   ],
   "source": [
    "# accuracy\n",
    "train_acc = knn_clf.score(X_train[['ST_Slope_Up', 'ST_Slope_Flat', 'ST_Slope_Down', 'ExerciseAngina_Y', 'ExerciseAngina_N', 'ChestPainType_NAP', 'ChestPainType_ATA', 'ChestPainType_ASY', 'ChestPainType_TA', 'Oldpeak', 'Sex_M', 'Sex_F']],\n",
    "                          y_train)\n",
    "test_acc = knn_clf.score(X_test[['ST_Slope_Up', 'ST_Slope_Flat', 'ST_Slope_Down', 'ExerciseAngina_Y', 'ExerciseAngina_N', 'ChestPainType_NAP', 'ChestPainType_ATA', 'ChestPainType_ASY', 'ChestPainType_TA', 'Oldpeak', 'Sex_M', 'Sex_F']],\n",
    "                         y_test)\n",
    "print('train accuracy:', train_acc)\n",
    "print('test accuracy:', test_acc)\n",
    "\n",
    "plot_confusion_matrix(knn_clf, X_test[['ST_Slope_Up', 'ST_Slope_Flat', 'ST_Slope_Down', 'ExerciseAngina_Y', 'ExerciseAngina_N', 'ChestPainType_NAP', 'ChestPainType_ATA', 'ChestPainType_ASY', 'ChestPainType_TA', 'Oldpeak', 'Sex_M', 'Sex_F']], y_test, cmap = plt.cm.Blues, values_format = 'd')"
   ]
  },
  {
   "cell_type": "markdown",
   "id": "1fcb788b",
   "metadata": {},
   "source": [
    "#### * 모든 변수 포함"
   ]
  },
  {
   "cell_type": "code",
   "execution_count": 64,
   "id": "7bb70a59",
   "metadata": {},
   "outputs": [
    {
     "data": {
      "text/plain": [
       "KNeighborsClassifier(metric='manhattan', n_jobs=-1, n_neighbors=15,\n",
       "                     weights='distance')"
      ]
     },
     "execution_count": 64,
     "metadata": {},
     "output_type": "execute_result"
    }
   ],
   "source": [
    "# fitting(모든 변수)\n",
    "knn_clf = KNeighborsClassifier(n_neighbors = 15, n_jobs = -1, weights = 'distance', metric = 'manhattan')\n",
    "knn_clf.fit(X_train, y_train)"
   ]
  },
  {
   "cell_type": "code",
   "execution_count": 65,
   "id": "640cbe5b",
   "metadata": {},
   "outputs": [],
   "source": [
    "pred = knn_clf.predict(X_test)"
   ]
  },
  {
   "cell_type": "code",
   "execution_count": 66,
   "id": "622db325",
   "metadata": {},
   "outputs": [
    {
     "name": "stdout",
     "output_type": "stream",
     "text": [
      "train accuracy: 1.0\n",
      "test accuracy: 0.7133333333333334\n"
     ]
    },
    {
     "data": {
      "text/plain": [
       "<sklearn.metrics._plot.confusion_matrix.ConfusionMatrixDisplay at 0x1a841087be0>"
      ]
     },
     "execution_count": 66,
     "metadata": {},
     "output_type": "execute_result"
    },
    {
     "data": {
      "image/png": "[encoded data removed]",
      "text/plain": [
       "<Figure size 432x288 with 2 Axes>"
      ]
     },
     "metadata": {
      "needs_background": "light"
     },
     "output_type": "display_data"
    }
   ],
   "source": [
    "# accuracy\n",
    "train_acc = knn_clf.score(X_train,y_train)\n",
    "test_acc = knn_clf.score(X_test,y_test)\n",
    "print('train accuracy:', train_acc)\n",
    "print('test accuracy:', test_acc)\n",
    "\n",
    "plot_confusion_matrix(knn_clf, X_test, y_test, cmap = plt.cm.Blues, values_format = 'd')"
   ]
  },
  {
   "cell_type": "code",
   "execution_count": null,
   "id": "9791b40f",
   "metadata": {},
   "outputs": [],
   "source": []
  },
  {
   "cell_type": "markdown",
   "id": "d8c10181",
   "metadata": {},
   "source": [
    "# 4. logistic reg\n",
    "* 범주형 변수 하나마다 Decision Tree를 그리고(depth=1 or 2), leaf node마다 logistic regression을 적용한다.\n",
    "* 로지스틱 할 때는 변수 1개 or 2개씩만 넣어서 적용하기"
   ]
  },
  {
   "cell_type": "code",
   "execution_count": 67,
   "id": "7635e324",
   "metadata": {},
   "outputs": [],
   "source": [
    "from sklearn.linear_model import LogisticRegression\n",
    "from sklearn.tree import DecisionTreeRegressor\n",
    "import statsmodels.api as sm"
   ]
  },
  {
   "cell_type": "markdown",
   "id": "e0c13b40",
   "metadata": {},
   "source": [
    "### 4-1. RF로 사후확률 구하기"
   ]
  },
  {
   "cell_type": "code",
   "execution_count": 68,
   "id": "8588e991",
   "metadata": {},
   "outputs": [],
   "source": [
    "X = df1.drop(columns='HeartDisease')\n",
    "y = df1['HeartDisease']\n",
    "X_train, X_test, y_train, y_test = train_test_split(X, y, test_size=0.2, random_state=42)"
   ]
  },
  {
   "cell_type": "code",
   "execution_count": 69,
   "id": "88430ba9",
   "metadata": {
    "scrolled": true
   },
   "outputs": [
    {
     "data": {
      "text/plain": [
       "array([[0.37048   , 0.62952   ],\n",
       "       [0.94816751, 0.05183249],\n",
       "       [0.60896293, 0.39103707],\n",
       "       ...,\n",
       "       [0.85768071, 0.14231929],\n",
       "       [0.1722819 , 0.8277181 ],\n",
       "       [0.32503847, 0.67496153]])"
      ]
     },
     "execution_count": 69,
     "metadata": {},
     "output_type": "execute_result"
    }
   ],
   "source": [
    "post_prob = rfc.predict_proba(X_train)\n",
    "post_prob"
   ]
  },
  {
   "cell_type": "code",
   "execution_count": 70,
   "id": "b3832c8e",
   "metadata": {},
   "outputs": [
    {
     "data": {
      "text/plain": [
       "596"
      ]
     },
     "execution_count": 70,
     "metadata": {},
     "output_type": "execute_result"
    }
   ],
   "source": [
    "len(post_prob)"
   ]
  },
  {
   "cell_type": "code",
   "execution_count": 71,
   "id": "fc19aae9",
   "metadata": {},
   "outputs": [],
   "source": [
    "y_prob = []\n",
    "\n",
    "for i in range(0, len(post_prob)):\n",
    "    y_prob.append(round(post_prob[i][1], 4))"
   ]
  },
  {
   "cell_type": "markdown",
   "id": "153c6871",
   "metadata": {},
   "source": [
    "### 4-2. 사후확률을 y로 두고 regression tree 그리기(depth=1)"
   ]
  },
  {
   "cell_type": "code",
   "execution_count": 72,
   "id": "9b0b3b62",
   "metadata": {},
   "outputs": [
    {
     "data": {
      "text/plain": [
       "DecisionTreeRegressor(max_depth=1)"
      ]
     },
     "execution_count": 72,
     "metadata": {},
     "output_type": "execute_result"
    }
   ],
   "source": [
    "# fit regression model\n",
    "reg_tree = DecisionTreeRegressor(max_depth=1)\n",
    "reg_tree.fit(X_train, y_prob)"
   ]
  },
  {
   "cell_type": "code",
   "execution_count": 73,
   "id": "0aad9f74",
   "metadata": {
    "scrolled": false
   },
   "outputs": [
    {
     "data": {
      "image/png": "[encoded data removed]",
      "text/plain": [
       "<Figure size 432x288 with 1 Axes>"
      ]
     },
     "metadata": {
      "needs_background": "light"
     },
     "output_type": "display_data"
    }
   ],
   "source": [
    "# plot tree\n",
    "features = X.columns.tolist()\n",
    "tree.plot_tree(reg_tree, feature_names=features, filled=True)\n",
    "plt.show()"
   ]
  },
  {
   "cell_type": "markdown",
   "id": "709638ab",
   "metadata": {},
   "source": [
    "* RF의 feature importance에서 제일 중요한 변수인 ST_Slope로 루트 노드를 선정했다."
   ]
  },
  {
   "cell_type": "markdown",
   "id": "c0130e21",
   "metadata": {},
   "source": [
    "### 4-3. 리프 노드에 Logistic Regression 수행하기"
   ]
  },
  {
   "cell_type": "markdown",
   "id": "2f94e177",
   "metadata": {},
   "source": [
    "####  4-3-1. left data(st_slope <= 1.5)"
   ]
  },
  {
   "cell_type": "code",
   "execution_count": 74,
   "id": "ad625d63",
   "metadata": {},
   "outputs": [],
   "source": [
    "# 'st_slope <= 1.5 '는 'down + flat' (Down = 0, Flat = 1, Up = 2)\n",
    "left_data = X_train.loc[X_train['ST_Slope']<=1.5, ]\n",
    "right_data = X_train.loc[X_train['ST_Slope']>1.5, ]"
   ]
  },
  {
   "cell_type": "code",
   "execution_count": 75,
   "id": "05648e9a",
   "metadata": {},
   "outputs": [],
   "source": [
    "# reg-tree의 조건에 만족하는 y_train가져오기\n",
    "y0 = []\n",
    "y1 = []\n",
    "\n",
    "for i in y_train.index:\n",
    "    if i in left_data.index:\n",
    "        y1.append(y_train[i])\n",
    "    elif i in right_data.index:\n",
    "        y0.append(y_train[i])"
   ]
  },
  {
   "cell_type": "code",
   "execution_count": 76,
   "id": "b20cae77",
   "metadata": {
    "scrolled": true
   },
   "outputs": [
    {
     "name": "stderr",
     "output_type": "stream",
     "text": [
      "C:\\Users\\Dain\\AppData\\Local\\Temp/ipykernel_14104/3536397205.py:3: SettingWithCopyWarning: \n",
      "A value is trying to be set on a copy of a slice from a DataFrame.\n",
      "Try using .loc[row_indexer,col_indexer] = value instead\n",
      "\n",
      "See the caveats in the documentation: https://pandas.pydata.org/pandas-docs/stable/user_guide/indexing.html#returning-a-view-versus-a-copy\n",
      "  left_data['y'] = y1\n"
     ]
    }
   ],
   "source": [
    "# X_데이터에 y변수 붙이기\n",
    "# y1 = pd.DataFrame(y1, columns = ['y'])\n",
    "left_data['y'] = y1"
   ]
  },
  {
   "cell_type": "code",
   "execution_count": 77,
   "id": "3114ecd8",
   "metadata": {
    "scrolled": true
   },
   "outputs": [
    {
     "data": {
      "text/plain": [
       "['Age', 'RestingBP', 'Cholesterol', 'MaxHR', 'Oldpeak']"
      ]
     },
     "execution_count": 77,
     "metadata": {},
     "output_type": "execute_result"
    }
   ],
   "source": [
    "num_col = df.drop(columns=['HeartDisease', 'FastingBS']).select_dtypes(include=['int', 'float']).columns.tolist()\n",
    "num_col"
   ]
  },
  {
   "cell_type": "markdown",
   "id": "e386132b",
   "metadata": {},
   "source": [
    "#### * one-reg"
   ]
  },
  {
   "cell_type": "code",
   "execution_count": 78,
   "id": "955a8f0f",
   "metadata": {
    "scrolled": false
   },
   "outputs": [
    {
     "name": "stdout",
     "output_type": "stream",
     "text": [
      "Optimization terminated successfully.\n",
      "         Current function value: 0.541284\n",
      "         Iterations 5\n",
      "                           Logit Regression Results                           \n",
      "==============================================================================\n",
      "Dep. Variable:                      y   No. Observations:                  315\n",
      "Model:                          Logit   Df Residuals:                      313\n",
      "Method:                           MLE   Df Model:                            1\n",
      "Date:                Sat, 21 May 2022   Pseudo R-squ.:                0.007098\n",
      "Time:                        16:23:00   Log-Likelihood:                -170.50\n",
      "converged:                       True   LL-Null:                       -171.72\n",
      "Covariance Type:            nonrobust   LLR p-value:                    0.1184\n",
      "==============================================================================\n",
      "                 coef    std err          z      P>|z|      [0.025      0.975]\n",
      "------------------------------------------------------------------------------\n",
      "Intercept     -0.0999      0.825     -0.121      0.904      -1.717       1.517\n",
      "Age            0.0233      0.015      1.559      0.119      -0.006       0.053\n",
      "==============================================================================\n"
     ]
    }
   ],
   "source": [
    "logistic_reg = sm.Logit.from_formula(\"y ~ Age\", left_data)\n",
    "result = logistic_reg.fit()\n",
    "print(result.summary())"
   ]
  },
  {
   "cell_type": "code",
   "execution_count": 79,
   "id": "98801688",
   "metadata": {},
   "outputs": [],
   "source": [
    "logi = LogisticRegression()\n",
    "result = logi.fit(np.array(left_data['Age']).reshape(-1,1), left_data['y'])"
   ]
  },
  {
   "cell_type": "code",
   "execution_count": 80,
   "id": "57447f02",
   "metadata": {
    "scrolled": true
   },
   "outputs": [],
   "source": [
    "a = list(df['Age'])\n",
    "a.sort()"
   ]
  },
  {
   "cell_type": "code",
   "execution_count": 81,
   "id": "cdd43ae3",
   "metadata": {},
   "outputs": [],
   "source": [
    "pp = logi.predict_proba(np.array(a).reshape(-1,1))"
   ]
  },
  {
   "cell_type": "code",
   "execution_count": 82,
   "id": "f70afa93",
   "metadata": {},
   "outputs": [],
   "source": [
    "p = []\n",
    "\n",
    "for i in range(0, len(pp)):\n",
    "    p.append(round(pp[i][1], 4))"
   ]
  },
  {
   "cell_type": "code",
   "execution_count": 83,
   "id": "180534b8",
   "metadata": {
    "scrolled": false
   },
   "outputs": [
    {
     "data": {
      "text/plain": [
       "Text(0, 0.5, 'Homogenity')"
      ]
     },
     "execution_count": 83,
     "metadata": {},
     "output_type": "execute_result"
    },
    {
     "data": {
      "image/png": "[encoded data removed]",
      "text/plain": [
       "<Figure size 432x288 with 1 Axes>"
      ]
     },
     "metadata": {
      "needs_background": "light"
     },
     "output_type": "display_data"
    }
   ],
   "source": [
    "# y=1인 데이터에 대해 age변수를 독립변수로한 로지스틱 수행 후 사후확률 그래프 \n",
    "plt.plot(a, p, '-o')\n",
    "plt.xlabel('Age')\n",
    "plt.ylabel('Homogenity')"
   ]
  },
  {
   "cell_type": "code",
   "execution_count": null,
   "id": "94ec06ce",
   "metadata": {},
   "outputs": [],
   "source": []
  },
  {
   "cell_type": "code",
   "execution_count": 84,
   "id": "1d223187",
   "metadata": {
    "scrolled": true
   },
   "outputs": [
    {
     "name": "stdout",
     "output_type": "stream",
     "text": [
      "Optimization terminated successfully.\n",
      "         Current function value: 0.524427\n",
      "         Iterations 6\n",
      "                           Logit Regression Results                           \n",
      "==============================================================================\n",
      "Dep. Variable:                      y   No. Observations:                  315\n",
      "Model:                          Logit   Df Residuals:                      313\n",
      "Method:                           MLE   Df Model:                            1\n",
      "Date:                Sat, 21 May 2022   Pseudo R-squ.:                 0.03802\n",
      "Time:                        16:23:04   Log-Likelihood:                -165.19\n",
      "converged:                       True   LL-Null:                       -171.72\n",
      "Covariance Type:            nonrobust   LLR p-value:                 0.0003020\n",
      "==============================================================================\n",
      "                 coef    std err          z      P>|z|      [0.025      0.975]\n",
      "------------------------------------------------------------------------------\n",
      "Intercept     -2.7281      1.136     -2.401      0.016      -4.955      -0.501\n",
      "RestingBP      0.0294      0.009      3.408      0.001       0.012       0.046\n",
      "==============================================================================\n"
     ]
    }
   ],
   "source": [
    "logistic_reg = sm.Logit.from_formula(\"y ~ RestingBP\", \n",
    "                                     left_data)\n",
    "result = logistic_reg.fit()\n",
    "print(result.summary())"
   ]
  },
  {
   "cell_type": "code",
   "execution_count": null,
   "id": "ea6399ab",
   "metadata": {},
   "outputs": [],
   "source": []
  },
  {
   "cell_type": "code",
   "execution_count": 85,
   "id": "339f8106",
   "metadata": {
    "scrolled": true
   },
   "outputs": [
    {
     "name": "stdout",
     "output_type": "stream",
     "text": [
      "Optimization terminated successfully.\n",
      "         Current function value: 0.545154\n",
      "         Iterations 5\n",
      "                           Logit Regression Results                           \n",
      "==============================================================================\n",
      "Dep. Variable:                      y   No. Observations:                  315\n",
      "Model:                          Logit   Df Residuals:                      313\n",
      "Method:                           MLE   Df Model:                            1\n",
      "Date:                Sat, 21 May 2022   Pseudo R-squ.:               6.281e-07\n",
      "Time:                        16:23:05   Log-Likelihood:                -171.72\n",
      "converged:                       True   LL-Null:                       -171.72\n",
      "Covariance Type:            nonrobust   LLR p-value:                    0.9883\n",
      "===============================================================================\n",
      "                  coef    std err          z      P>|z|      [0.025      0.975]\n",
      "-------------------------------------------------------------------------------\n",
      "Intercept       1.1884      0.538      2.209      0.027       0.134       2.243\n",
      "Cholesterol -3.066e-05      0.002     -0.015      0.988      -0.004       0.004\n",
      "===============================================================================\n"
     ]
    }
   ],
   "source": [
    "logistic_reg = sm.Logit.from_formula(\"y ~ Cholesterol\", \n",
    "                                     left_data)\n",
    "result = logistic_reg.fit()\n",
    "print(result.summary())"
   ]
  },
  {
   "cell_type": "code",
   "execution_count": null,
   "id": "01e5254d",
   "metadata": {},
   "outputs": [],
   "source": []
  },
  {
   "cell_type": "code",
   "execution_count": 86,
   "id": "5437650c",
   "metadata": {},
   "outputs": [
    {
     "name": "stdout",
     "output_type": "stream",
     "text": [
      "Optimization terminated successfully.\n",
      "         Current function value: 0.487271\n",
      "         Iterations 6\n",
      "                           Logit Regression Results                           \n",
      "==============================================================================\n",
      "Dep. Variable:                      y   No. Observations:                  315\n",
      "Model:                          Logit   Df Residuals:                      313\n",
      "Method:                           MLE   Df Model:                            1\n",
      "Date:                Sat, 21 May 2022   Pseudo R-squ.:                  0.1062\n",
      "Time:                        16:23:06   Log-Likelihood:                -153.49\n",
      "converged:                       True   LL-Null:                       -171.72\n",
      "Covariance Type:            nonrobust   LLR p-value:                 1.554e-09\n",
      "==============================================================================\n",
      "                 coef    std err          z      P>|z|      [0.025      0.975]\n",
      "------------------------------------------------------------------------------\n",
      "Intercept      6.3999      0.982      6.517      0.000       4.475       8.325\n",
      "MaxHR         -0.0385      0.007     -5.525      0.000      -0.052      -0.025\n",
      "==============================================================================\n"
     ]
    }
   ],
   "source": [
    "logistic_reg = sm.Logit.from_formula(\"y ~ MaxHR\", \n",
    "                                     left_data)\n",
    "result = logistic_reg.fit()\n",
    "print(result.summary())"
   ]
  },
  {
   "cell_type": "code",
   "execution_count": 87,
   "id": "b20d2403",
   "metadata": {},
   "outputs": [],
   "source": [
    "logi = LogisticRegression()\n",
    "result = logi.fit(np.array(left_data['MaxHR']).reshape(-1,1), left_data['y'])"
   ]
  },
  {
   "cell_type": "code",
   "execution_count": 88,
   "id": "99044e1c",
   "metadata": {},
   "outputs": [],
   "source": [
    "a = list(df['MaxHR'])\n",
    "a.sort()"
   ]
  },
  {
   "cell_type": "code",
   "execution_count": 89,
   "id": "d6bfd09b",
   "metadata": {},
   "outputs": [],
   "source": [
    "pp = logi.predict_proba(np.array(a).reshape(-1,1))"
   ]
  },
  {
   "cell_type": "code",
   "execution_count": 90,
   "id": "c2596108",
   "metadata": {},
   "outputs": [],
   "source": [
    "p = []\n",
    "\n",
    "for i in range(0, len(pp)):\n",
    "    p.append(round(pp[i][1], 4))"
   ]
  },
  {
   "cell_type": "code",
   "execution_count": 91,
   "id": "53fd8435",
   "metadata": {},
   "outputs": [
    {
     "data": {
      "text/plain": [
       "Text(0, 0.5, 'Homogenity')"
      ]
     },
     "execution_count": 91,
     "metadata": {},
     "output_type": "execute_result"
    },
    {
     "data": {
      "image/png": "[encoded data removed]",
      "text/plain": [
       "<Figure size 432x288 with 1 Axes>"
      ]
     },
     "metadata": {
      "needs_background": "light"
     },
     "output_type": "display_data"
    }
   ],
   "source": [
    "# y=1인 데이터에 대해 MaxHR변수를 독립변수로한 로지스틱 수행 후 사후확률 그래프 \n",
    "plt.plot(a, p, '-o')\n",
    "plt.xlabel('MaxHR')\n",
    "plt.ylabel('Homogenity')"
   ]
  },
  {
   "cell_type": "code",
   "execution_count": null,
   "id": "ff9567a0",
   "metadata": {},
   "outputs": [],
   "source": []
  },
  {
   "cell_type": "code",
   "execution_count": 92,
   "id": "7f8f49de",
   "metadata": {
    "scrolled": true
   },
   "outputs": [
    {
     "name": "stdout",
     "output_type": "stream",
     "text": [
      "Optimization terminated successfully.\n",
      "         Current function value: 0.529861\n",
      "         Iterations 6\n",
      "                           Logit Regression Results                           \n",
      "==============================================================================\n",
      "Dep. Variable:                      y   No. Observations:                  315\n",
      "Model:                          Logit   Df Residuals:                      313\n",
      "Method:                           MLE   Df Model:                            1\n",
      "Date:                Sat, 21 May 2022   Pseudo R-squ.:                 0.02805\n",
      "Time:                        16:23:10   Log-Likelihood:                -166.91\n",
      "converged:                       True   LL-Null:                       -171.72\n",
      "Covariance Type:            nonrobust   LLR p-value:                  0.001909\n",
      "==============================================================================\n",
      "                 coef    std err          z      P>|z|      [0.025      0.975]\n",
      "------------------------------------------------------------------------------\n",
      "Intercept      0.6162      0.220      2.798      0.005       0.185       1.048\n",
      "Oldpeak        0.4168      0.141      2.966      0.003       0.141       0.692\n",
      "==============================================================================\n"
     ]
    }
   ],
   "source": [
    "logistic_reg = sm.Logit.from_formula(\"y ~ Oldpeak\", \n",
    "                                     left_data)\n",
    "result = logistic_reg.fit()\n",
    "print(result.summary())"
   ]
  },
  {
   "cell_type": "code",
   "execution_count": 93,
   "id": "615c0954",
   "metadata": {},
   "outputs": [],
   "source": [
    "logi = LogisticRegression()\n",
    "result = logi.fit(np.array(left_data['Oldpeak']).reshape(-1,1), left_data['y'])"
   ]
  },
  {
   "cell_type": "code",
   "execution_count": 94,
   "id": "b41f304f",
   "metadata": {},
   "outputs": [],
   "source": [
    "a = list(df['Oldpeak'])\n",
    "a.sort()"
   ]
  },
  {
   "cell_type": "code",
   "execution_count": 95,
   "id": "9c69d249",
   "metadata": {},
   "outputs": [],
   "source": [
    "pp = logi.predict_proba(np.array(a).reshape(-1,1))\n",
    "p = []\n",
    "\n",
    "for i in range(0, len(pp)):\n",
    "    p.append(round(pp[i][1], 4))"
   ]
  },
  {
   "cell_type": "code",
   "execution_count": 96,
   "id": "62c955e1",
   "metadata": {},
   "outputs": [
    {
     "data": {
      "text/plain": [
       "Text(0, 0.5, 'Homogenity')"
      ]
     },
     "execution_count": 96,
     "metadata": {},
     "output_type": "execute_result"
    },
    {
     "data": {
      "image/png": "[encoded data removed]",
      "text/plain": [
       "<Figure size 432x288 with 1 Axes>"
      ]
     },
     "metadata": {
      "needs_background": "light"
     },
     "output_type": "display_data"
    }
   ],
   "source": [
    "plt.plot(a, p, '-o')\n",
    "plt.xlabel('Oldpeak')\n",
    "plt.ylabel('Homogenity')"
   ]
  },
  {
   "cell_type": "code",
   "execution_count": null,
   "id": "2a86538c",
   "metadata": {},
   "outputs": [],
   "source": []
  },
  {
   "cell_type": "markdown",
   "id": "7eccee00",
   "metadata": {},
   "source": [
    "#### * two reg"
   ]
  },
  {
   "cell_type": "code",
   "execution_count": 97,
   "id": "84f57bac",
   "metadata": {
    "scrolled": true
   },
   "outputs": [
    {
     "name": "stdout",
     "output_type": "stream",
     "text": [
      "Optimization terminated successfully.\n",
      "         Current function value: 0.477328\n",
      "         Iterations 6\n",
      "                           Logit Regression Results                           \n",
      "==============================================================================\n",
      "Dep. Variable:                      y   No. Observations:                  315\n",
      "Model:                          Logit   Df Residuals:                      312\n",
      "Method:                           MLE   Df Model:                            2\n",
      "Date:                Sat, 21 May 2022   Pseudo R-squ.:                  0.1244\n",
      "Time:                        16:23:13   Log-Likelihood:                -150.36\n",
      "converged:                       True   LL-Null:                       -171.72\n",
      "Covariance Type:            nonrobust   LLR p-value:                 5.263e-10\n",
      "==============================================================================\n",
      "                 coef    std err          z      P>|z|      [0.025      0.975]\n",
      "------------------------------------------------------------------------------\n",
      "Intercept      5.7139      1.009      5.660      0.000       3.735       7.692\n",
      "MaxHR         -0.0370      0.007     -5.283      0.000      -0.051      -0.023\n",
      "Oldpeak        0.3472      0.143      2.423      0.015       0.066       0.628\n",
      "==============================================================================\n"
     ]
    }
   ],
   "source": [
    "logistic_reg = sm.Logit.from_formula(\"y ~ MaxHR + Oldpeak\", \n",
    "                                     left_data)\n",
    "result = logistic_reg.fit()\n",
    "print(result.summary())"
   ]
  },
  {
   "cell_type": "code",
   "execution_count": null,
   "id": "ac1957f3",
   "metadata": {},
   "outputs": [],
   "source": []
  },
  {
   "cell_type": "markdown",
   "id": "5be1423e",
   "metadata": {},
   "source": [
    "#### 4-3-2. right data(st_slope > 1.5)"
   ]
  },
  {
   "cell_type": "code",
   "execution_count": 98,
   "id": "8809a836",
   "metadata": {},
   "outputs": [
    {
     "data": {
      "text/html": [
       "<div>\n",
       "<style scoped>\n",
       "    .dataframe tbody tr th:only-of-type {\n",
       "        vertical-align: middle;\n",
       "    }\n",
       "\n",
       "    .dataframe tbody tr th {\n",
       "        vertical-align: top;\n",
       "    }\n",
       "\n",
       "    .dataframe thead th {\n",
       "        text-align: right;\n",
       "    }\n",
       "</style>\n",
       "<table border=\"1\" class=\"dataframe\">\n",
       "  <thead>\n",
       "    <tr style=\"text-align: right;\">\n",
       "      <th></th>\n",
       "      <th>Age</th>\n",
       "      <th>Sex</th>\n",
       "      <th>ChestPainType</th>\n",
       "      <th>RestingBP</th>\n",
       "      <th>Cholesterol</th>\n",
       "      <th>FastingBS</th>\n",
       "      <th>RestingECG</th>\n",
       "      <th>MaxHR</th>\n",
       "      <th>ExerciseAngina</th>\n",
       "      <th>Oldpeak</th>\n",
       "      <th>ST_Slope</th>\n",
       "    </tr>\n",
       "  </thead>\n",
       "  <tbody>\n",
       "    <tr>\n",
       "      <th>164</th>\n",
       "      <td>52</td>\n",
       "      <td>0</td>\n",
       "      <td>1</td>\n",
       "      <td>140</td>\n",
       "      <td>225</td>\n",
       "      <td>0</td>\n",
       "      <td>1</td>\n",
       "      <td>140</td>\n",
       "      <td>0</td>\n",
       "      <td>0.0</td>\n",
       "      <td>2</td>\n",
       "    </tr>\n",
       "    <tr>\n",
       "      <th>265</th>\n",
       "      <td>54</td>\n",
       "      <td>1</td>\n",
       "      <td>1</td>\n",
       "      <td>160</td>\n",
       "      <td>305</td>\n",
       "      <td>0</td>\n",
       "      <td>1</td>\n",
       "      <td>175</td>\n",
       "      <td>0</td>\n",
       "      <td>0.0</td>\n",
       "      <td>2</td>\n",
       "    </tr>\n",
       "    <tr>\n",
       "      <th>639</th>\n",
       "      <td>54</td>\n",
       "      <td>0</td>\n",
       "      <td>1</td>\n",
       "      <td>132</td>\n",
       "      <td>288</td>\n",
       "      <td>1</td>\n",
       "      <td>0</td>\n",
       "      <td>159</td>\n",
       "      <td>1</td>\n",
       "      <td>0.0</td>\n",
       "      <td>2</td>\n",
       "    </tr>\n",
       "    <tr>\n",
       "      <th>28</th>\n",
       "      <td>53</td>\n",
       "      <td>0</td>\n",
       "      <td>1</td>\n",
       "      <td>113</td>\n",
       "      <td>468</td>\n",
       "      <td>0</td>\n",
       "      <td>1</td>\n",
       "      <td>127</td>\n",
       "      <td>0</td>\n",
       "      <td>0.0</td>\n",
       "      <td>2</td>\n",
       "    </tr>\n",
       "    <tr>\n",
       "      <th>765</th>\n",
       "      <td>41</td>\n",
       "      <td>1</td>\n",
       "      <td>2</td>\n",
       "      <td>112</td>\n",
       "      <td>250</td>\n",
       "      <td>0</td>\n",
       "      <td>1</td>\n",
       "      <td>179</td>\n",
       "      <td>0</td>\n",
       "      <td>0.0</td>\n",
       "      <td>2</td>\n",
       "    </tr>\n",
       "    <tr>\n",
       "      <th>...</th>\n",
       "      <td>...</td>\n",
       "      <td>...</td>\n",
       "      <td>...</td>\n",
       "      <td>...</td>\n",
       "      <td>...</td>\n",
       "      <td>...</td>\n",
       "      <td>...</td>\n",
       "      <td>...</td>\n",
       "      <td>...</td>\n",
       "      <td>...</td>\n",
       "      <td>...</td>\n",
       "    </tr>\n",
       "    <tr>\n",
       "      <th>121</th>\n",
       "      <td>52</td>\n",
       "      <td>0</td>\n",
       "      <td>2</td>\n",
       "      <td>125</td>\n",
       "      <td>272</td>\n",
       "      <td>0</td>\n",
       "      <td>1</td>\n",
       "      <td>139</td>\n",
       "      <td>0</td>\n",
       "      <td>0.0</td>\n",
       "      <td>2</td>\n",
       "    </tr>\n",
       "    <tr>\n",
       "      <th>20</th>\n",
       "      <td>43</td>\n",
       "      <td>0</td>\n",
       "      <td>3</td>\n",
       "      <td>100</td>\n",
       "      <td>223</td>\n",
       "      <td>0</td>\n",
       "      <td>1</td>\n",
       "      <td>142</td>\n",
       "      <td>0</td>\n",
       "      <td>0.0</td>\n",
       "      <td>2</td>\n",
       "    </tr>\n",
       "    <tr>\n",
       "      <th>71</th>\n",
       "      <td>44</td>\n",
       "      <td>1</td>\n",
       "      <td>1</td>\n",
       "      <td>130</td>\n",
       "      <td>215</td>\n",
       "      <td>0</td>\n",
       "      <td>1</td>\n",
       "      <td>135</td>\n",
       "      <td>0</td>\n",
       "      <td>0.0</td>\n",
       "      <td>2</td>\n",
       "    </tr>\n",
       "    <tr>\n",
       "      <th>106</th>\n",
       "      <td>48</td>\n",
       "      <td>0</td>\n",
       "      <td>0</td>\n",
       "      <td>120</td>\n",
       "      <td>254</td>\n",
       "      <td>0</td>\n",
       "      <td>2</td>\n",
       "      <td>110</td>\n",
       "      <td>0</td>\n",
       "      <td>0.0</td>\n",
       "      <td>2</td>\n",
       "    </tr>\n",
       "    <tr>\n",
       "      <th>270</th>\n",
       "      <td>45</td>\n",
       "      <td>1</td>\n",
       "      <td>0</td>\n",
       "      <td>120</td>\n",
       "      <td>225</td>\n",
       "      <td>0</td>\n",
       "      <td>1</td>\n",
       "      <td>140</td>\n",
       "      <td>0</td>\n",
       "      <td>0.0</td>\n",
       "      <td>2</td>\n",
       "    </tr>\n",
       "  </tbody>\n",
       "</table>\n",
       "<p>281 rows × 11 columns</p>\n",
       "</div>"
      ],
      "text/plain": [
       "     Age  Sex  ChestPainType  RestingBP  Cholesterol  FastingBS  RestingECG  \\\n",
       "164   52    0              1        140          225          0           1   \n",
       "265   54    1              1        160          305          0           1   \n",
       "639   54    0              1        132          288          1           0   \n",
       "28    53    0              1        113          468          0           1   \n",
       "765   41    1              2        112          250          0           1   \n",
       "..   ...  ...            ...        ...          ...        ...         ...   \n",
       "121   52    0              2        125          272          0           1   \n",
       "20    43    0              3        100          223          0           1   \n",
       "71    44    1              1        130          215          0           1   \n",
       "106   48    0              0        120          254          0           2   \n",
       "270   45    1              0        120          225          0           1   \n",
       "\n",
       "     MaxHR  ExerciseAngina  Oldpeak  ST_Slope  \n",
       "164    140               0      0.0         2  \n",
       "265    175               0      0.0         2  \n",
       "639    159               1      0.0         2  \n",
       "28     127               0      0.0         2  \n",
       "765    179               0      0.0         2  \n",
       "..     ...             ...      ...       ...  \n",
       "121    139               0      0.0         2  \n",
       "20     142               0      0.0         2  \n",
       "71     135               0      0.0         2  \n",
       "106    110               0      0.0         2  \n",
       "270    140               0      0.0         2  \n",
       "\n",
       "[281 rows x 11 columns]"
      ]
     },
     "execution_count": 98,
     "metadata": {},
     "output_type": "execute_result"
    }
   ],
   "source": [
    "right_data"
   ]
  },
  {
   "cell_type": "code",
   "execution_count": 99,
   "id": "60327c41",
   "metadata": {
    "scrolled": true
   },
   "outputs": [
    {
     "name": "stderr",
     "output_type": "stream",
     "text": [
      "C:\\Users\\Dain\\AppData\\Local\\Temp/ipykernel_14104/1036394420.py:1: SettingWithCopyWarning: \n",
      "A value is trying to be set on a copy of a slice from a DataFrame.\n",
      "Try using .loc[row_indexer,col_indexer] = value instead\n",
      "\n",
      "See the caveats in the documentation: https://pandas.pydata.org/pandas-docs/stable/user_guide/indexing.html#returning-a-view-versus-a-copy\n",
      "  right_data['y'] = y0\n"
     ]
    }
   ],
   "source": [
    "right_data['y'] = y0"
   ]
  },
  {
   "cell_type": "markdown",
   "id": "5c0f7ec7",
   "metadata": {},
   "source": [
    "#### * one reg"
   ]
  },
  {
   "cell_type": "code",
   "execution_count": 100,
   "id": "9643e759",
   "metadata": {},
   "outputs": [
    {
     "name": "stdout",
     "output_type": "stream",
     "text": [
      "Optimization terminated successfully.\n",
      "         Current function value: 0.347311\n",
      "         Iterations 7\n",
      "                           Logit Regression Results                           \n",
      "==============================================================================\n",
      "Dep. Variable:                      y   No. Observations:                  281\n",
      "Model:                          Logit   Df Residuals:                      279\n",
      "Method:                           MLE   Df Model:                            1\n",
      "Date:                Sat, 21 May 2022   Pseudo R-squ.:                 0.09267\n",
      "Time:                        16:23:16   Log-Likelihood:                -97.594\n",
      "converged:                       True   LL-Null:                       -107.56\n",
      "Covariance Type:            nonrobust   LLR p-value:                 8.005e-06\n",
      "==============================================================================\n",
      "                 coef    std err          z      P>|z|      [0.025      0.975]\n",
      "------------------------------------------------------------------------------\n",
      "Intercept     -6.7150      1.214     -5.533      0.000      -9.094      -4.336\n",
      "Age            0.0910      0.022      4.179      0.000       0.048       0.134\n",
      "==============================================================================\n"
     ]
    }
   ],
   "source": [
    "logistic_reg = sm.Logit.from_formula(\"y ~ Age\", right_data)\n",
    "result = logistic_reg.fit()\n",
    "print(result.summary())"
   ]
  },
  {
   "cell_type": "code",
   "execution_count": 101,
   "id": "1cf888bf",
   "metadata": {},
   "outputs": [],
   "source": [
    "logi = LogisticRegression()\n",
    "result = logi.fit(np.array(right_data['Age']).reshape(-1,1), right_data['y'])"
   ]
  },
  {
   "cell_type": "code",
   "execution_count": 102,
   "id": "14384a80",
   "metadata": {},
   "outputs": [],
   "source": [
    "a = list(df['Age'])\n",
    "a.sort()"
   ]
  },
  {
   "cell_type": "code",
   "execution_count": 103,
   "id": "c2241597",
   "metadata": {},
   "outputs": [],
   "source": [
    "pp = logi.predict_proba(np.array(a).reshape(-1,1))\n",
    "p = []\n",
    "\n",
    "for i in range(0, len(pp)):\n",
    "    p.append(round(pp[i][1], 4))"
   ]
  },
  {
   "cell_type": "code",
   "execution_count": 104,
   "id": "d925118c",
   "metadata": {},
   "outputs": [
    {
     "data": {
      "text/plain": [
       "Text(0, 0.5, 'Homogeneity')"
      ]
     },
     "execution_count": 104,
     "metadata": {},
     "output_type": "execute_result"
    },
    {
     "data": {
      "image/png": "[encoded data removed]",
      "text/plain": [
       "<Figure size 432x288 with 1 Axes>"
      ]
     },
     "metadata": {
      "needs_background": "light"
     },
     "output_type": "display_data"
    }
   ],
   "source": [
    "plt.plot(a, p, '-o')\n",
    "plt.xlabel('Age')\n",
    "plt.ylabel('Homogeneity')"
   ]
  },
  {
   "cell_type": "code",
   "execution_count": null,
   "id": "28769c69",
   "metadata": {},
   "outputs": [],
   "source": []
  },
  {
   "cell_type": "code",
   "execution_count": 105,
   "id": "149b1b6a",
   "metadata": {},
   "outputs": [
    {
     "name": "stdout",
     "output_type": "stream",
     "text": [
      "Optimization terminated successfully.\n",
      "         Current function value: 0.381213\n",
      "         Iterations 6\n",
      "                           Logit Regression Results                           \n",
      "==============================================================================\n",
      "Dep. Variable:                      y   No. Observations:                  281\n",
      "Model:                          Logit   Df Residuals:                      279\n",
      "Method:                           MLE   Df Model:                            1\n",
      "Date:                Sat, 21 May 2022   Pseudo R-squ.:                0.004109\n",
      "Time:                        16:23:20   Log-Likelihood:                -107.12\n",
      "converged:                       True   LL-Null:                       -107.56\n",
      "Covariance Type:            nonrobust   LLR p-value:                    0.3471\n",
      "==============================================================================\n",
      "                 coef    std err          z      P>|z|      [0.025      0.975]\n",
      "------------------------------------------------------------------------------\n",
      "Intercept     -3.1144      1.314     -2.369      0.018      -5.691      -0.538\n",
      "MaxHR          0.0079      0.008      0.927      0.354      -0.009       0.024\n",
      "==============================================================================\n"
     ]
    }
   ],
   "source": [
    "logistic_reg = sm.Logit.from_formula(\"y ~ MaxHR\", \n",
    "                                     right_data)\n",
    "result = logistic_reg.fit()\n",
    "print(result.summary())"
   ]
  },
  {
   "cell_type": "code",
   "execution_count": 106,
   "id": "52c26426",
   "metadata": {},
   "outputs": [],
   "source": [
    "logi = LogisticRegression()\n",
    "result = logi.fit(np.array(right_data['MaxHR']).reshape(-1,1), right_data['y'])"
   ]
  },
  {
   "cell_type": "code",
   "execution_count": 107,
   "id": "33695e9c",
   "metadata": {},
   "outputs": [],
   "source": [
    "a = list(df['MaxHR'])\n",
    "a.sort()"
   ]
  },
  {
   "cell_type": "code",
   "execution_count": 108,
   "id": "841d2aa7",
   "metadata": {},
   "outputs": [],
   "source": [
    "pp = logi.predict_proba(np.array(a).reshape(-1,1))\n",
    "p = []\n",
    "\n",
    "for i in range(0, len(pp)):\n",
    "    p.append(round(pp[i][1], 4))"
   ]
  },
  {
   "cell_type": "code",
   "execution_count": 110,
   "id": "0ae17864",
   "metadata": {
    "scrolled": false
   },
   "outputs": [
    {
     "data": {
      "text/plain": [
       "Text(0, 0.5, 'Homogenity')"
      ]
     },
     "execution_count": 110,
     "metadata": {},
     "output_type": "execute_result"
    },
    {
     "data": {
      "image/png": "[encoded data removed]",
      "text/plain": [
       "<Figure size 432x288 with 1 Axes>"
      ]
     },
     "metadata": {
      "needs_background": "light"
     },
     "output_type": "display_data"
    }
   ],
   "source": [
    "plt.plot(a, p, '-o')\n",
    "plt.xlabel('MaxHR')\n",
    "plt.ylabel('Homogenity')"
   ]
  },
  {
   "cell_type": "code",
   "execution_count": 111,
   "id": "6891061e",
   "metadata": {},
   "outputs": [
    {
     "name": "stdout",
     "output_type": "stream",
     "text": [
      "Optimization terminated successfully.\n",
      "         Current function value: 0.360165\n",
      "         Iterations 6\n",
      "                           Logit Regression Results                           \n",
      "==============================================================================\n",
      "Dep. Variable:                      y   No. Observations:                  281\n",
      "Model:                          Logit   Df Residuals:                      279\n",
      "Method:                           MLE   Df Model:                            1\n",
      "Date:                Sat, 21 May 2022   Pseudo R-squ.:                 0.05909\n",
      "Time:                        16:23:30   Log-Likelihood:                -101.21\n",
      "converged:                       True   LL-Null:                       -107.56\n",
      "Covariance Type:            nonrobust   LLR p-value:                 0.0003632\n",
      "==============================================================================\n",
      "                 coef    std err          z      P>|z|      [0.025      0.975]\n",
      "------------------------------------------------------------------------------\n",
      "Intercept     -2.2511      0.218    -10.345      0.000      -2.678      -1.825\n",
      "Oldpeak        0.8754      0.242      3.618      0.000       0.401       1.350\n",
      "==============================================================================\n"
     ]
    }
   ],
   "source": [
    "logistic_reg = sm.Logit.from_formula(\"y ~ Oldpeak\", \n",
    "                                     right_data)\n",
    "result = logistic_reg.fit()\n",
    "print(result.summary())"
   ]
  },
  {
   "cell_type": "code",
   "execution_count": 112,
   "id": "2945e90d",
   "metadata": {},
   "outputs": [],
   "source": [
    "logi = LogisticRegression()\n",
    "result = logi.fit(np.array(right_data['Oldpeak']).reshape(-1,1), right_data['y'])"
   ]
  },
  {
   "cell_type": "code",
   "execution_count": 113,
   "id": "0e969830",
   "metadata": {},
   "outputs": [],
   "source": [
    "a = list(df['Oldpeak'])\n",
    "a.sort()"
   ]
  },
  {
   "cell_type": "code",
   "execution_count": 114,
   "id": "5dc3a1da",
   "metadata": {},
   "outputs": [],
   "source": [
    "pp = logi.predict_proba(np.array(a).reshape(-1,1))\n",
    "p = []\n",
    "\n",
    "for i in range(0, len(pp)):\n",
    "    p.append(round(pp[i][1], 4))"
   ]
  },
  {
   "cell_type": "code",
   "execution_count": 115,
   "id": "e5542fb4",
   "metadata": {},
   "outputs": [
    {
     "data": {
      "text/plain": [
       "Text(0, 0.5, 'Homogenity')"
      ]
     },
     "execution_count": 115,
     "metadata": {},
     "output_type": "execute_result"
    },
    {
     "data": {
      "image/png": "[encoded data removed]",
      "text/plain": [
       "<Figure size 432x288 with 1 Axes>"
      ]
     },
     "metadata": {
      "needs_background": "light"
     },
     "output_type": "display_data"
    }
   ],
   "source": [
    "plt.plot(a, p, '-o')\n",
    "plt.xlabel('Oldpeak')\n",
    "plt.ylabel('Homogenity')"
   ]
  },
  {
   "cell_type": "markdown",
   "id": "868765c4",
   "metadata": {},
   "source": [
    "#### * two reg"
   ]
  },
  {
   "cell_type": "code",
   "execution_count": 116,
   "id": "e6ed9d4f",
   "metadata": {
    "scrolled": true
   },
   "outputs": [
    {
     "name": "stdout",
     "output_type": "stream",
     "text": [
      "Optimization terminated successfully.\n",
      "         Current function value: 0.358933\n",
      "         Iterations 6\n",
      "                           Logit Regression Results                           \n",
      "==============================================================================\n",
      "Dep. Variable:                      y   No. Observations:                  281\n",
      "Model:                          Logit   Df Residuals:                      278\n",
      "Method:                           MLE   Df Model:                            2\n",
      "Date:                Sat, 21 May 2022   Pseudo R-squ.:                 0.06231\n",
      "Time:                        16:23:33   Log-Likelihood:                -100.86\n",
      "converged:                       True   LL-Null:                       -107.56\n",
      "Covariance Type:            nonrobust   LLR p-value:                  0.001228\n",
      "==============================================================================\n",
      "                 coef    std err          z      P>|z|      [0.025      0.975]\n",
      "------------------------------------------------------------------------------\n",
      "Intercept     -3.3751      1.397     -2.415      0.016      -6.114      -0.636\n",
      "MaxHR          0.0074      0.009      0.822      0.411      -0.010       0.025\n",
      "Oldpeak        0.8688      0.242      3.591      0.000       0.395       1.343\n",
      "==============================================================================\n"
     ]
    }
   ],
   "source": [
    "logistic_reg = sm.Logit.from_formula(\"y ~ MaxHR + Oldpeak\", \n",
    "                                     right_data)\n",
    "result = logistic_reg.fit()\n",
    "print(result.summary())"
   ]
  },
  {
   "cell_type": "markdown",
   "id": "4ffa3e84",
   "metadata": {},
   "source": [
    "### 5. 결론\n",
    "* RF로 사후확률을 구해서 목표변수 대신 사용해 regression tree를 구하면, 모델이 자동으로 feature importance가 높은 변수를 루트 노드로 선정한다.\n",
    "* feature importance에서 수치형 변수만 봤을 때, maxHR > age 순서로 중요했고, 로지스틱 결과 역시 maxHR, age 순서로 R-squared 값이 높았다.\n",
    "* maxHR과 age에 대해서만 logistic regression의 사후확률 그래프를 그려봤는데, scatter plot에서 봤던 결과와 같은 결과가 나왔다.\n",
    "* scatter plot에서 maxHR은 낮을수록 심장질환이 있는 것으로 나타났고, 사후확률 그래프 역시 maxHR이 낮을수록 높은 확률을 갖는 것으로 나타났다. (사후확률 그래프의 확률은 y=1인 확률로 그린 그래프이다.)\n",
    "* age도 마찬가지로 scatter plot에서 주로 나이가 많은 쪽에서 심장질환이 있는 것으로 나타났고, 사후확률 그래프에서 나이가 많을수록 높은 사후확률이 나타났다."
   ]
  },
  {
   "cell_type": "code",
   "execution_count": null,
   "id": "9bd42224",
   "metadata": {},
   "outputs": [],
   "source": []
  }
 ],
 "metadata": {
  "kernelspec": {
   "display_name": "Python 3 (ipykernel)",
   "language": "python",
   "name": "python3"
  },
  "language_info": {
   "codemirror_mode": {
    "name": "ipython",
    "version": 3
   },
   "file_extension": ".py",
   "mimetype": "text/x-python",
   "name": "python",
   "nbconvert_exporter": "python",
   "pygments_lexer": "ipython3",
   "version": "3.9.7"
  }
 },
 "nbformat": 4,
 "nbformat_minor": 5
}
